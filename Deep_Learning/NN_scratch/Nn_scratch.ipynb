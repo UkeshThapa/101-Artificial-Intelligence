{
 "cells": [
  {
   "cell_type": "markdown",
   "id": "319742c1",
   "metadata": {},
   "source": [
    "# Neural Network From Scratch"
   ]
  },
  {
   "cell_type": "markdown",
   "id": "f74cabe3",
   "metadata": {},
   "source": [
    "## Chapter 2:  Code Our First Neuron"
   ]
  },
  {
   "cell_type": "markdown",
   "id": "8ad0494a",
   "metadata": {},
   "source": [
    "### 2.1 A single Neuron\n",
    "        General formula : y = x * w + b\n",
    "        where, y = output\n",
    "               x = input\n",
    "               w = weight\n",
    "               b = bias"
   ]
  },
  {
   "cell_type": "code",
   "execution_count": 1,
   "id": "07130a92",
   "metadata": {},
   "outputs": [
    {
     "data": {
      "text/plain": [
       "2.3"
      ]
     },
     "execution_count": 1,
     "metadata": {},
     "output_type": "execute_result"
    }
   ],
   "source": [
    "inputs = [1,2,3]\n",
    "weights = [0.2,0.8,-0.5]\n",
    "bias = 2\n",
    "output = (inputs[0] * weights[0]+\n",
    "          inputs[1] * weights[1]+\n",
    "          inputs[2] * weights[2]+ bias)\n",
    "output"
   ]
  },
  {
   "cell_type": "markdown",
   "id": "f8bbfab7",
   "metadata": {},
   "source": [
    "### A layer of Neuron\n",
    "    For example: 3 neuron and 4 inputs"
   ]
  },
  {
   "cell_type": "code",
   "execution_count": 2,
   "id": "8a6b9745",
   "metadata": {},
   "outputs": [
    {
     "data": {
      "text/plain": [
       "[4.8, 1.21, 2.385]"
      ]
     },
     "execution_count": 2,
     "metadata": {},
     "output_type": "execute_result"
    }
   ],
   "source": [
    "# input on neurons\n",
    "inputs = [1, 2, 3, 2.5]\n",
    "\n",
    "# weights on different neuron\n",
    "weights1 = [0.2, 0.8, -0.5, 1]\n",
    "weights2 = [0.5, -0.91, 0.26, -0.5]\n",
    "weights3 = [-0.26, -0.27, 0.17, 0.87]\n",
    "\n",
    "# bias of each neuron\n",
    "bias1 = 2\n",
    "bias2 = 3\n",
    "bias3 = 0.5\n",
    "\n",
    "outputs = [\n",
    "            #     Neuron 1\n",
    "            inputs[0] * weights1[0]+\n",
    "            inputs[1] * weights1[1]+\n",
    "            inputs[2] * weights1[2]+\n",
    "            inputs[3] * weights1[3]+ bias1,\n",
    "    \n",
    "                #     Neuron 2\n",
    "            inputs[0] * weights2[0]+\n",
    "            inputs[1] * weights2[1]+\n",
    "            inputs[2] * weights2[2]+\n",
    "            inputs[3] * weights2[3]+ bias2,\n",
    "    \n",
    "                #     Neuron 3\n",
    "            inputs[0] * weights3[0]+\n",
    "            inputs[1] * weights3[1]+\n",
    "            inputs[2] * weights3[2]+\n",
    "            inputs[3] * weights3[3]+ bias3,\n",
    "]\n",
    "\n",
    "outputs"
   ]
  },
  {
   "cell_type": "code",
   "execution_count": 12,
   "id": "94f48e12",
   "metadata": {},
   "outputs": [
    {
     "data": {
      "text/plain": [
       "[4.8, 1.21, 2.385]"
      ]
     },
     "execution_count": 12,
     "metadata": {},
     "output_type": "execute_result"
    }
   ],
   "source": [
    "# Dynamic coding\n",
    "# input on neurons\n",
    "inputs = [1, 2, 3, 2.5]\n",
    "\n",
    "# weights on different neuron\n",
    "weights = [[0.2, 0.8, -0.5, 1],\n",
    "            [0.5, -0.91, 0.26, -0.5],\n",
    "            [-0.26, -0.27, 0.17, 0.87]]\n",
    "\n",
    "# bias of each neuron\n",
    "biases = [2, 3, 0.5]\n",
    "\n",
    "# output of current layer\n",
    "layer_output = []\n",
    "\n",
    "# for each neuron\n",
    "for neuron_weights, neuron_bias in zip(weights, biases):\n",
    "    #  zeroed output of given neuron\n",
    "    neuron_output = 0\n",
    "    \n",
    "    for n_input, weight in zip(inputs, neuron_weights):\n",
    "        neuron_output += n_input * weight\n",
    "    \n",
    "    #Add bias\n",
    "    neuron_output += neuron_bias\n",
    "    #append in list\n",
    "    layer_output.append(neuron_output)\n",
    "\n",
    "layer_output"
   ]
  },
  {
   "cell_type": "code",
   "execution_count": 13,
   "id": "1d5bd13b",
   "metadata": {},
   "outputs": [
    {
     "data": {
      "text/plain": [
       "20"
      ]
     },
     "execution_count": 13,
     "metadata": {},
     "output_type": "execute_result"
    }
   ],
   "source": [
    "# Dot product\n",
    "a = [1, 2, 3]\n",
    "b = [2, 3, 4]\n",
    "\n",
    "dot_product = a[0] * b[0] + a[1] * b[1] + a[2] * b[2]\n",
    "\n",
    "dot_product"
   ]
  },
  {
   "cell_type": "markdown",
   "id": "9469efbf",
   "metadata": {},
   "source": [
    "### A Single Neuron with Numpy"
   ]
  },
  {
   "cell_type": "code",
   "execution_count": null,
   "id": "271f69c1",
   "metadata": {},
   "outputs": [],
   "source": []
  },
  {
   "cell_type": "code",
   "execution_count": 3,
   "id": "5930147a",
   "metadata": {},
   "outputs": [
    {
     "ename": "AttributeError",
     "evalue": "'list' object has no attribute 'astype'",
     "output_type": "error",
     "traceback": [
      "\u001b[1;31m---------------------------------------------------------------------------\u001b[0m",
      "\u001b[1;31mAttributeError\u001b[0m                            Traceback (most recent call last)",
      "\u001b[1;32md:\\personal\\Machine_Learning\\Project\\Nn_scratch.ipynb Cell 11'\u001b[0m in \u001b[0;36m<cell line: 7>\u001b[1;34m()\u001b[0m\n\u001b[0;32m      <a href='vscode-notebook-cell:/d%3A/personal/Machine_Learning/Project/Nn_scratch.ipynb#ch0000010?line=3'>4</a>\u001b[0m weights \u001b[39m=\u001b[39m [\u001b[39m0.2\u001b[39m, \u001b[39m0.8\u001b[39m, \u001b[39m-\u001b[39m\u001b[39m0.5\u001b[39m, \u001b[39m1.0\u001b[39m]\n\u001b[0;32m      <a href='vscode-notebook-cell:/d%3A/personal/Machine_Learning/Project/Nn_scratch.ipynb#ch0000010?line=4'>5</a>\u001b[0m bias \u001b[39m=\u001b[39m \u001b[39m2.0\u001b[39m\n\u001b[1;32m----> <a href='vscode-notebook-cell:/d%3A/personal/Machine_Learning/Project/Nn_scratch.ipynb#ch0000010?line=6'>7</a>\u001b[0m outputs \u001b[39m=\u001b[39m np\u001b[39m.\u001b[39;49mdot(weights, inputs) \u001b[39m+\u001b[39m bias\n\u001b[0;32m      <a href='vscode-notebook-cell:/d%3A/personal/Machine_Learning/Project/Nn_scratch.ipynb#ch0000010?line=8'>9</a>\u001b[0m outputs\n",
      "File \u001b[1;32md:\\personal\\Machine_Learning\\env\\lib\\site-packages\\nnfs\\core.py:22\u001b[0m, in \u001b[0;36minit.<locals>.dot\u001b[1;34m(*args, **kwargs)\u001b[0m\n\u001b[0;32m     21\u001b[0m \u001b[39mdef\u001b[39;00m \u001b[39mdot\u001b[39m(\u001b[39m*\u001b[39margs, \u001b[39m*\u001b[39m\u001b[39m*\u001b[39mkwargs):\n\u001b[1;32m---> 22\u001b[0m     \u001b[39mreturn\u001b[39;00m orig_dot(\u001b[39m*\u001b[39m[a\u001b[39m.\u001b[39mastype(\u001b[39m'\u001b[39m\u001b[39mfloat64\u001b[39m\u001b[39m'\u001b[39m) \u001b[39mfor\u001b[39;00m a \u001b[39min\u001b[39;00m args], \u001b[39m*\u001b[39m\u001b[39m*\u001b[39mkwargs)\u001b[39m.\u001b[39mastype(\u001b[39m'\u001b[39m\u001b[39mfloat32\u001b[39m\u001b[39m'\u001b[39m)\n",
      "File \u001b[1;32md:\\personal\\Machine_Learning\\env\\lib\\site-packages\\nnfs\\core.py:22\u001b[0m, in \u001b[0;36m<listcomp>\u001b[1;34m(.0)\u001b[0m\n\u001b[0;32m     21\u001b[0m \u001b[39mdef\u001b[39;00m \u001b[39mdot\u001b[39m(\u001b[39m*\u001b[39margs, \u001b[39m*\u001b[39m\u001b[39m*\u001b[39mkwargs):\n\u001b[1;32m---> 22\u001b[0m     \u001b[39mreturn\u001b[39;00m orig_dot(\u001b[39m*\u001b[39m[a\u001b[39m.\u001b[39;49mastype(\u001b[39m'\u001b[39m\u001b[39mfloat64\u001b[39m\u001b[39m'\u001b[39m) \u001b[39mfor\u001b[39;00m a \u001b[39min\u001b[39;00m args], \u001b[39m*\u001b[39m\u001b[39m*\u001b[39mkwargs)\u001b[39m.\u001b[39mastype(\u001b[39m'\u001b[39m\u001b[39mfloat32\u001b[39m\u001b[39m'\u001b[39m)\n",
      "\u001b[1;31mAttributeError\u001b[0m: 'list' object has no attribute 'astype'"
     ]
    }
   ],
   "source": [
    "import numpy as np\n",
    "\n",
    "inputs = [1.0, 2.0, 3.0, 2.5]\n",
    "weights = [0.2, 0.8, -0.5, 1.0]\n",
    "bias = 2.0\n",
    "\n",
    "outputs = np.dot(weights, inputs) + bias\n",
    "\n",
    "outputs"
   ]
  },
  {
   "cell_type": "markdown",
   "id": "28457cf5",
   "metadata": {},
   "source": [
    "### A layer of Neuron with Numpy"
   ]
  },
  {
   "cell_type": "code",
   "execution_count": 1,
   "id": "de686b65",
   "metadata": {},
   "outputs": [
    {
     "data": {
      "text/plain": [
       "array([4.8  , 1.21 , 2.385])"
      ]
     },
     "execution_count": 1,
     "metadata": {},
     "output_type": "execute_result"
    }
   ],
   "source": [
    "import numpy as np\n",
    "\n",
    "inputs = [1.0, 2.0, 3.0, 2.5]\n",
    "weights = [[0.2, 0.8, -0.5, 1.0],\n",
    "           [0.5, -0.91, 0.26, -0.5],\n",
    "           [-0.26, -0.27, 0.17, 0.87]]\n",
    "bias = [2.0, 3.0, 0.5]\n",
    "\n",
    "layer_outputs = np.dot(weights, inputs) + bias\n",
    "\n",
    "layer_outputs"
   ]
  },
  {
   "cell_type": "markdown",
   "id": "92e93102",
   "metadata": {},
   "source": [
    "### A layer of Neurons & Batch of Data w/ Numpy"
   ]
  },
  {
   "cell_type": "code",
   "execution_count": 9,
   "id": "40f892d9",
   "metadata": {},
   "outputs": [
    {
     "data": {
      "text/plain": [
       "array([[ 4.8  ,  1.21 ,  2.385],\n",
       "       [ 8.9  , -1.81 ,  0.2  ],\n",
       "       [ 1.41 ,  1.051,  0.026]])"
      ]
     },
     "execution_count": 9,
     "metadata": {},
     "output_type": "execute_result"
    }
   ],
   "source": [
    "inputs = [[1.0, 2.0, 3.0, 2.5],\n",
    "          [2.0, 5.0, -1.0, 2.0],\n",
    "          [-1.5, 2.7, 3.3, -0.8]]\n",
    "\n",
    "\n",
    "weights = [[0.2, 0.8, -0.5, 1.0],\n",
    "           [0.5, -0.91, 0.26, -0.5],\n",
    "           [-0.26, -0.27, 0.17, 0.87]]\n",
    "\n",
    "biases = [2.0, 3.0, 0.5]\n",
    "\n",
    "outputs = np.dot(inputs, np.array(weights).T) + biases\n",
    "outputs"
   ]
  },
  {
   "cell_type": "markdown",
   "id": "5e7490bc",
   "metadata": {},
   "source": [
    "## Chapter 3 Adding Layers"
   ]
  },
  {
   "cell_type": "markdown",
   "id": "9f6f8806",
   "metadata": {},
   "source": [
    "### Adding the layer example input with 4 feature and a hidden layer with 3 neuron"
   ]
  },
  {
   "cell_type": "code",
   "execution_count": 10,
   "id": "7abf808a",
   "metadata": {},
   "outputs": [
    {
     "data": {
      "text/plain": [
       "array([[ 0.5031 , -1.04185, -2.03875],\n",
       "       [ 0.2434 , -2.7332 , -5.7633 ],\n",
       "       [-0.99314,  1.41254, -0.35655]])"
      ]
     },
     "execution_count": 10,
     "metadata": {},
     "output_type": "execute_result"
    }
   ],
   "source": [
    "inputs = [[1.0, 2.0, 3.0, 2.5],\n",
    "          [2.0, 5.0, -1.0, 2.0],\n",
    "          [-1.5, 2.7, 3.3, -0.8]]\n",
    "\n",
    "\n",
    "weights = [[0.2, 0.8, -0.5, 1.0],\n",
    "           [0.5, -0.91, 0.26, -0.5],\n",
    "           [-0.26, -0.27, 0.17, 0.87]]\n",
    "\n",
    "biases = [2.0, 3.0, 0.5]\n",
    "\n",
    "weights2 = [[0.1, -0.14, 0.5],\n",
    "            [-0.5, 0.12, -0.33],\n",
    "            [-0.44, 0.73, -0.13]]\n",
    "\n",
    "biases2 = [-1, 2, -0.5]\n",
    "\n",
    "\n",
    "layer1_outputs = np.dot(inputs, np.array(weights).T) + biases\n",
    "layer2_outputs = np.dot(layer1_outputs, np.array(weights2).T) + biases2\n",
    "\n",
    "layer2_outputs"
   ]
  },
  {
   "cell_type": "markdown",
   "id": "2dbc9074",
   "metadata": {},
   "source": [
    "### Training Data"
   ]
  },
  {
   "cell_type": "code",
   "execution_count": 8,
   "id": "de21e67e",
   "metadata": {},
   "outputs": [],
   "source": [
    "import nnfs\n",
    "import numpy as np\n",
    "from nnfs.datasets import spiral_data\n",
    "import matplotlib.pyplot as plt\n",
    "nnfs.init()"
   ]
  },
  {
   "cell_type": "code",
   "execution_count": 5,
   "id": "19ee39e4",
   "metadata": {},
   "outputs": [
    {
     "data": {
      "image/png": "[encoded data removed]",
      "text/plain": [
       "<Figure size 432x288 with 1 Axes>"
      ]
     },
     "metadata": {
      "needs_background": "light"
     },
     "output_type": "display_data"
    }
   ],
   "source": [
    "X, y = spiral_data(samples=100, classes=3)\n",
    "plt.scatter(X[:,0],X[:,1],c=y, cmap='brg')\n",
    "plt.show()"
   ]
  },
  {
   "cell_type": "code",
   "execution_count": 9,
   "id": "ab539775",
   "metadata": {},
   "outputs": [],
   "source": [
    "class Layer_Dense:\n",
    "    def __init__(self, n_inputs, n_neurons):\n",
    "        self.weights = 0.01 * np.random.randn(n_inputs, n_neurons)\n",
    "        self.baises = np.zeros((1,n_neurons))\n",
    "\n",
    "    def forward(self, inputs):\n",
    "        self.output = np.dot(inputs,self.weights) + self.baises\n",
    "        \n"
   ]
  },
  {
   "cell_type": "code",
   "execution_count": 11,
   "id": "ab575fec",
   "metadata": {},
   "outputs": [
    {
     "data": {
      "text/plain": [
       "array([[ 0.00000000e+00,  0.00000000e+00,  0.00000000e+00],\n",
       "       [-1.01753267e-05, -2.50496814e-05,  7.08966545e-05],\n",
       "       [ 4.53214341e-07,  6.81245510e-05,  1.40924763e-04],\n",
       "       [ 5.94710182e-05,  3.49831535e-04,  2.30411497e-05],\n",
       "       [ 6.07281218e-05,  4.13309113e-04,  1.44117599e-04],\n",
       "       [ 7.56669469e-05,  5.15734253e-04,  1.81189098e-04],\n",
       "       [ 1.18747928e-04,  6.99424651e-04,  4.79496048e-05],\n",
       "       [ 1.28909538e-04,  7.96533015e-04,  1.32161818e-04],\n",
       "       [ 9.30378301e-05,  7.12466019e-04,  3.91219684e-04],\n",
       "       [ 1.75846682e-04,  8.16417974e-04, -4.00572520e-04],\n",
       "       [ 1.83559270e-04,  8.07602890e-04, -5.14089887e-04],\n",
       "       [ 2.32685838e-04,  1.20864552e-03, -2.54102430e-04],\n",
       "       [ 2.53438309e-04,  1.30817713e-03, -2.94533093e-04],\n",
       "       [ 6.46123226e-05, -7.31917826e-05, -9.49581561e-04],\n",
       "       [ 2.94377387e-04,  1.50045531e-03, -3.83045466e-04],\n",
       "       [ 3.09115014e-04,  1.52129447e-03, -5.18933404e-04],\n",
       "       [ 2.70090561e-04,  1.11212709e-03, -9.20251536e-04],\n",
       "       [ 9.50016474e-05, -3.58774050e-05, -1.24194811e-03],\n",
       "       [ 4.00075296e-05, -3.76448326e-04, -1.29996787e-03],\n",
       "       [ 3.22790846e-04,  1.33578852e-03, -1.08548650e-03],\n",
       "       [ 2.19876732e-04,  6.02307962e-04, -1.40079996e-03],\n",
       "       [ 4.27405786e-04,  2.07023951e-03, -7.88940350e-04],\n",
       "       [ 2.83484289e-04,  9.27002286e-04, -1.48252642e-03],\n",
       "       [ 3.55314463e-04,  1.36386068e-03, -1.42389419e-03],\n",
       "       [ 3.64525011e-04,  1.38001679e-03, -1.50208466e-03],\n",
       "       [-3.19209561e-04, -2.34611006e-03, -1.13081886e-03],\n",
       "       [ 2.59137305e-04,  6.18047605e-04, -1.84832595e-03],\n",
       "       [ 1.46110906e-04, -8.42497611e-05, -1.97260338e-03],\n",
       "       [-1.70632193e-04, -1.78488158e-03, -1.74575427e-03],\n",
       "       [-4.65312536e-04, -3.08674178e-03, -9.31975141e-04],\n",
       "       [-3.33074015e-04, -2.60356907e-03, -1.51441735e-03],\n",
       "       [-6.41214778e-04, -3.17243743e-03,  1.04047963e-03],\n",
       "       [-3.10456380e-04, -2.57896981e-03, -1.73883629e-03],\n",
       "       [-4.73275373e-04, -3.30470549e-03, -1.30300922e-03],\n",
       "       [-5.42673690e-04, -3.60888103e-03, -1.10616314e-03],\n",
       "       [-7.41406519e-04, -3.96903884e-03,  5.56065468e-04],\n",
       "       [-7.02760066e-04, -4.18242905e-03, -3.76606680e-04],\n",
       "       [-6.42353552e-04, -4.09911526e-03, -9.38102603e-04],\n",
       "       [-4.84296965e-04, -3.56236659e-03, -1.72189844e-03],\n",
       "       [-8.05177318e-04, -4.55425074e-03,  7.96278837e-05],\n",
       "       [-7.63259362e-04, -3.46901175e-03,  1.89915998e-03],\n",
       "       [-8.15170293e-04, -4.78379754e-03, -2.91421311e-04],\n",
       "       [-8.69532872e-04, -4.30784328e-03,  1.39851030e-03],\n",
       "       [-8.97415623e-04, -4.50440263e-03,  1.31773471e-03],\n",
       "       [-7.77201843e-04, -3.31596867e-03,  2.39918078e-03],\n",
       "       [-9.43574472e-04, -5.21349395e-03,  3.58993595e-04],\n",
       "       [-4.03737140e-05,  1.29667192e-03,  3.28312465e-03],\n",
       "       [-9.79756471e-04, -5.46833780e-03,  2.54651182e-04],\n",
       "       [-9.46681597e-04, -4.43461770e-03,  2.07183091e-03],\n",
       "       [-4.44924779e-04, -9.00824089e-04,  3.51821864e-03],\n",
       "       [-6.51793147e-04, -2.15559104e-03,  3.35660554e-03],\n",
       "       [-3.14003584e-04, -5.88845469e-05,  3.72334896e-03],\n",
       "       [-8.33009719e-04, -3.29173077e-03,  3.13555147e-03],\n",
       "       [-5.82507579e-04, -1.59508234e-03,  3.71230976e-03],\n",
       "       [-4.46335849e-04, -7.29226100e-04,  3.90449003e-03],\n",
       "       [ 5.37328830e-04,  4.44937404e-03,  2.97892652e-03],\n",
       "       [ 1.66326485e-04,  2.70297052e-03,  3.77262337e-03],\n",
       "       [ 3.50958057e-04,  3.65088508e-03,  3.54708452e-03],\n",
       "       [-4.00244346e-04, -3.17069527e-04,  4.22558701e-03],\n",
       "       [ 6.88363565e-04,  5.26388362e-03,  2.87846709e-03],\n",
       "       [ 3.90652101e-04,  3.94511176e-03,  3.69304721e-03],\n",
       "       [ 1.08456833e-03,  6.83458382e-03,  1.39796885e-03],\n",
       "       [ 1.29699288e-03,  7.19714817e-03, -4.26958577e-04],\n",
       "       [ 4.56737267e-04,  4.36410075e-03,  3.78369517e-03],\n",
       "       [ 5.28675155e-04,  4.73646866e-03,  3.70233995e-03],\n",
       "       [ 3.70746071e-04,  4.02055960e-03,  4.09934018e-03],\n",
       "       [ 9.36817087e-04,  6.57160347e-03,  2.64406856e-03],\n",
       "       [ 9.31642542e-04,  6.59519248e-03,  2.75823404e-03],\n",
       "       [ 1.33672194e-03,  7.91448914e-03,  6.28356531e-04],\n",
       "       [ 1.25858816e-03,  7.81977549e-03,  1.38269272e-03],\n",
       "       [ 1.27111794e-03,  7.91769288e-03,  1.43960735e-03],\n",
       "       [ 1.44971965e-03,  7.04962807e-03, -2.61672260e-03],\n",
       "       [ 1.23485946e-03,  7.92943314e-03,  1.90941221e-03],\n",
       "       [ 1.52810581e-03,  7.71342451e-03, -2.15050974e-03],\n",
       "       [ 1.54855778e-03,  8.58788285e-03, -5.21006179e-04],\n",
       "       [ 1.39066973e-03,  6.16931869e-03, -3.78556107e-03],\n",
       "       [ 9.53557959e-04,  3.03607760e-03, -5.16328542e-03],\n",
       "       [ 1.60155259e-03,  7.99208973e-03, -2.45184614e-03],\n",
       "       [ 1.29876728e-03,  5.29078767e-03, -4.54777572e-03],\n",
       "       [ 1.34602271e-03,  5.58279827e-03, -4.49928641e-03],\n",
       "       [ 1.64349668e-03,  8.05445295e-03, -2.83202459e-03],\n",
       "       [ 1.10691297e-03,  3.82629433e-03, -5.34442812e-03],\n",
       "       [ 9.45907843e-04,  2.74783885e-03, -5.68925962e-03],\n",
       "       [ 7.05395243e-04,  1.23628695e-03, -5.99050475e-03],\n",
       "       [ 1.03047118e-03,  3.20517481e-03, -5.74271614e-03],\n",
       "       [ 6.51303795e-04,  8.44192575e-04, -6.17037760e-03],\n",
       "       [ 1.41631614e-03,  5.72014134e-03, -5.06583182e-03],\n",
       "       [ 7.07927742e-04,  1.10845768e-03, -6.29641395e-03],\n",
       "       [-3.04694200e-04, -4.46662260e-03, -5.86832082e-03],\n",
       "       [-7.92197825e-04, -6.84939185e-03, -5.01453038e-03],\n",
       "       [ 2.34156279e-04, -1.69551850e-03, -6.51667174e-03],\n",
       "       [-4.61302930e-04, -5.34655340e-03, -5.84018882e-03],\n",
       "       [-7.66912650e-04, -6.84085488e-03, -5.30619267e-03],\n",
       "       [-9.31069604e-04, -7.62420613e-03, -4.97784652e-03],\n",
       "       [-1.37641421e-03, -9.52213816e-03, -3.59846558e-03],\n",
       "       [ 6.25588349e-04,  3.44968255e-04, -6.92851655e-03],\n",
       "       [-1.26292882e-03, -9.16132331e-03, -4.21407074e-03],\n",
       "       [-1.62929285e-03, -1.05720647e-02, -2.75550294e-03],\n",
       "       [-8.01370887e-04, -7.21481675e-03, -5.68779791e-03],\n",
       "       [-2.02621939e-03, -9.88208409e-03,  3.59476730e-03],\n",
       "       [ 0.00000000e+00,  0.00000000e+00,  0.00000000e+00],\n",
       "       [-2.01932271e-05, -9.69288085e-05,  3.91703288e-05],\n",
       "       [-3.05297617e-05, -2.07266858e-04, -7.13437039e-05],\n",
       "       [-4.76331734e-05, -3.17548402e-04, -9.87683306e-05],\n",
       "       [-8.46520998e-05, -4.55793052e-04,  5.78626059e-05],\n",
       "       [-6.52274830e-05, -4.74909961e-04, -2.21405702e-04],\n",
       "       [-1.25944309e-04, -6.39391539e-04,  1.69367748e-04],\n",
       "       [-1.45932674e-04, -7.31081702e-04,  2.17290479e-04],\n",
       "       [-1.24966653e-04, -4.83991200e-04,  4.91523009e-04],\n",
       "       [-1.47622035e-04, -5.94321231e-04,  5.32066333e-04],\n",
       "       [-2.06504817e-04, -1.01927109e-03,  3.40293365e-04],\n",
       "       [-2.33162966e-04, -1.23869954e-03,  1.95330271e-04],\n",
       "       [-1.93433516e-05,  2.90802331e-04,  8.62450514e-04],\n",
       "       [-2.59476888e-04, -1.23009831e-03,  5.36456704e-04],\n",
       "       [-2.81912100e-04, -1.34901074e-03,  5.55846607e-04],\n",
       "       [-2.92976969e-04, -1.35979149e-03,  6.68330584e-04],\n",
       "       [ 1.03174107e-05,  5.80216816e-04,  1.12108293e-03],\n",
       "       [-2.28458754e-04, -7.77658657e-04,  1.12898368e-03],\n",
       "       [-2.46701849e-04, -8.55051796e-04,  1.18624943e-03],\n",
       "       [-6.27166664e-05,  2.84707523e-04,  1.38114078e-03],\n",
       "       [-9.56870499e-05,  1.33644688e-04,  1.46057119e-03],\n",
       "       [-1.57744216e-04, -1.89918443e-04,  1.52572093e-03],\n",
       "       [ 2.04873635e-04,  1.73435151e-03,  1.21727411e-03],\n",
       "       [ 3.18358099e-04,  2.25825165e-03,  9.52345261e-04],\n",
       "       [ 3.55075841e-04,  2.44505540e-03,  9.03818640e-04],\n",
       "       [ 3.66750435e-04,  2.53508636e-03,  9.54262738e-04],\n",
       "       [ 3.47921014e-04,  2.50500161e-03,  1.12043985e-03],\n",
       "       [-1.71904670e-04, -6.39013451e-05,  1.97030301e-03],\n",
       "       [ 5.92732278e-04,  3.18670762e-03, -4.15357674e-04],\n",
       "       [ 4.94947715e-04,  3.18609411e-03,  7.82249030e-04],\n",
       "       [ 5.90384123e-04,  3.49262683e-03,  2.71221099e-04],\n",
       "       [ 6.56908203e-04,  3.50533123e-03, -5.17106266e-04],\n",
       "       [ 6.59877493e-04,  3.25051276e-03, -1.10142375e-03],\n",
       "       [ 6.89132547e-04,  3.83539777e-03, -2.02495634e-04],\n",
       "       [ 7.19298027e-04,  3.87923792e-03, -4.78085480e-04],\n",
       "       [ 6.58277364e-04,  4.01629042e-03,  5.64772170e-04],\n",
       "       [ 7.61647534e-04,  4.10669390e-03, -5.08252124e-04],\n",
       "       [ 7.20907934e-04,  4.29633446e-03,  3.99017415e-04],\n",
       "       [ 7.83048803e-04,  4.43931995e-03, -5.54376820e-05],\n",
       "       [ 8.06326687e-04,  4.55257576e-03, -9.73222777e-05],\n",
       "       [ 8.22141999e-04,  4.03171917e-03, -1.41117792e-03],\n",
       "       [ 5.05002681e-04,  1.57744973e-03, -2.79994518e-03],\n",
       "       [-4.59215255e-04, -3.61414882e-03, -2.14076461e-03],\n",
       "       [ 6.83475460e-04,  2.68412661e-03, -2.60860007e-03],\n",
       "       [ 9.31297662e-04,  4.85182181e-03, -9.86137544e-04],\n",
       "       [ 1.02856357e-04, -9.25625092e-04, -3.25139146e-03],\n",
       "       [ 6.92608184e-04,  2.60334625e-03, -2.89427023e-03],\n",
       "       [ 7.60740659e-04,  3.03084496e-03, -2.81042559e-03],\n",
       "       [ 3.32190131e-04,  2.67960742e-04, -3.49677610e-03],\n",
       "       [ 8.48983938e-04,  3.56773869e-03, -2.73793633e-03],\n",
       "       [ 1.31349370e-04, -9.35026037e-04, -3.62095493e-03],\n",
       "       [ 1.92117499e-04, -6.32101961e-04, -3.71467811e-03],\n",
       "       [-1.73403514e-05, -1.80054863e-03, -3.65893566e-03],\n",
       "       [-2.86939583e-04, -3.20343440e-03, -3.36989830e-03],\n",
       "       [-2.30004851e-04, -2.95639108e-03, -3.53677524e-03],\n",
       "       [-3.19669169e-04, -3.43096768e-03, -3.45784705e-03],\n",
       "       [-5.82345587e-04, -4.68735211e-03, -2.93868175e-03],\n",
       "       [-7.59096933e-04, -5.47698233e-03, -2.46941810e-03],\n",
       "       [-6.98734148e-05, -2.27303663e-03, -4.03077854e-03],\n",
       "       [ 5.17410044e-05, -1.66335143e-03, -4.21093265e-03],\n",
       "       [-8.61179375e-04, -6.01118198e-03, -2.36643362e-03],\n",
       "       [-2.05073549e-04, -3.06524709e-03, -4.07651812e-03],\n",
       "       [-1.12018525e-03, -6.99727098e-03, -1.31108391e-03],\n",
       "       [-1.33509492e-03, -7.11877411e-03,  1.06264337e-03],\n",
       "       [-1.35135162e-03, -7.34170852e-03,  7.82610441e-04],\n",
       "       [-9.44828149e-04, -6.55788695e-03, -2.51635257e-03],\n",
       "       [-1.13847188e-03, -7.28912978e-03, -1.71442819e-03],\n",
       "       [-1.41626620e-03, -7.33428821e-03,  1.59447663e-03],\n",
       "       [-1.41586352e-03, -7.91654270e-03,  3.37574544e-04],\n",
       "       [-1.46115222e-03, -7.83999916e-03,  1.05743855e-03],\n",
       "       [-1.29329995e-03, -5.72042679e-03,  3.55693046e-03],\n",
       "       [-1.48108741e-03, -8.25739000e-03,  4.04386694e-04],\n",
       "       [-1.49100611e-03, -7.38955056e-03,  2.39202846e-03],\n",
       "       [-1.53688737e-03, -7.85823725e-03,  1.94680295e-03],\n",
       "       [-1.56136614e-03, -8.03362578e-03,  1.86981261e-03],\n",
       "       [-1.52326177e-03, -7.36008538e-03,  2.85086827e-03],\n",
       "       [-6.45244203e-04, -1.12808018e-03,  5.48566598e-03],\n",
       "       [-9.53547657e-04, -2.99537997e-03,  5.25066722e-03],\n",
       "       [-1.38083729e-03, -5.90176741e-03,  4.24029725e-03],\n",
       "       [-8.94262281e-04, -2.54017441e-03,  5.50256064e-03],\n",
       "       [-1.55889848e-03, -7.21962145e-03,  3.58983199e-03],\n",
       "       [-9.87027306e-04, -3.04826815e-03,  5.54743782e-03],\n",
       "       [ 1.39344472e-03,  8.98953434e-03,  2.24444922e-03],\n",
       "       [-1.56134935e-04,  1.89020659e-03,  5.97867975e-03],\n",
       "       [ 7.31111737e-04,  6.38853153e-03,  4.77255648e-03],\n",
       "       [ 2.25606549e-04,  3.96610284e-03,  5.76178683e-03],\n",
       "       [ 7.65559729e-04,  6.61881221e-03,  4.84534353e-03],\n",
       "       [ 1.17666356e-03,  8.43225978e-03,  3.70412483e-03],\n",
       "       [-1.69508945e-04,  1.98250706e-03,  6.34112116e-03],\n",
       "       [ 9.81049845e-04,  7.69319199e-03,  4.51337732e-03],\n",
       "       [ 1.89454376e-03,  1.03802439e-02, -9.09162220e-04],\n",
       "       [ 6.91431807e-04,  6.45318208e-03,  5.39808022e-03],\n",
       "       [ 1.07224274e-03,  8.20322707e-03,  4.49195085e-03],\n",
       "       [ 1.43128703e-03,  9.68070328e-03,  3.26662161e-03],\n",
       "       [ 1.85854849e-03,  1.09553225e-02,  7.68705970e-04],\n",
       "       [ 1.99411716e-03,  1.09947296e-02, -8.08753364e-04],\n",
       "       [ 1.92367646e-03,  9.15699173e-03, -3.89659498e-03],\n",
       "       [ 2.05369899e-03,  1.07174236e-02, -2.13554129e-03],\n",
       "       [ 2.05976167e-03,  1.13256220e-02, -9.02127591e-04],\n",
       "       [ 1.69422594e-03,  7.05122715e-03, -5.61114773e-03],\n",
       "       [ 0.00000000e+00,  0.00000000e+00,  0.00000000e+00],\n",
       "       [ 1.69367304e-05,  1.09446220e-04,  2.76721730e-05],\n",
       "       [ 4.39969108e-06, -4.20764154e-05, -1.44416917e-04],\n",
       "       [ 2.36577580e-05,  3.37556303e-05, -2.17483685e-04],\n",
       "       [ 8.04456940e-05,  3.84427578e-04, -1.59738571e-04],\n",
       "       [ 8.13628430e-05,  3.25521920e-04, -2.97642604e-04],\n",
       "       [ 3.76992830e-05,  1.13002225e-05, -4.37928888e-04],\n",
       "       [ 1.20543518e-04,  5.04146446e-04, -3.93953582e-04],\n",
       "       [ 6.53997922e-05,  1.03727325e-04, -5.78824722e-04],\n",
       "       [ 2.05240958e-05, -1.85382742e-04, -6.50254020e-04],\n",
       "       [ 1.85589262e-04,  8.23925366e-04, -5.03882766e-04],\n",
       "       [ 1.60509633e-04,  5.87700808e-04, -7.04314967e-04],\n",
       "       [-2.63208058e-05, -5.31627273e-04, -8.20389716e-04],\n",
       "       [ 7.06194305e-06, -3.89700406e-04, -9.24520369e-04],\n",
       "       [-8.96482234e-05, -9.13308177e-04, -8.64630565e-04],\n",
       "       [ 3.81596074e-05, -2.87338626e-04, -1.08570687e-03],\n",
       "       [ 3.30194052e-05, -3.48486210e-04, -1.15416304e-03],\n",
       "       [ 2.71048251e-04,  1.06707436e-03, -1.02886627e-03],\n",
       "       [ 1.21469879e-04,  8.24249801e-05, -1.31209812e-03],\n",
       "       [-1.46979597e-04, -1.35964050e-03, -1.12140190e-03],\n",
       "       [-3.22209118e-04, -2.13333941e-03, -6.36541750e-04],\n",
       "       [-3.24755383e-04, -2.19166488e-03, -7.30733562e-04],\n",
       "       [-2.59048509e-04, -1.97291793e-03, -1.06600788e-03],\n",
       "       [-2.82562483e-04, -2.11220980e-03, -1.07721193e-03],\n",
       "       [-4.17831208e-04, -2.66247918e-03, -6.01887703e-04],\n",
       "       [-4.44554636e-04, -2.80123181e-03, -5.72580844e-04],\n",
       "       [-5.41377056e-04, -2.70651327e-03,  8.18212400e-04],\n",
       "       [-5.39681991e-04, -3.15318466e-03, -1.63004690e-04],\n",
       "       [-2.94142752e-04, -2.35679280e-03, -1.46113033e-03],\n",
       "       [-4.07125452e-04, -2.86989775e-03, -1.17914146e-03],\n",
       "       [-5.06369048e-04, -2.08486617e-03,  1.72565004e-03],\n",
       "       [-5.44490118e-04, -3.45356506e-03, -7.49931554e-04],\n",
       "       [-6.03360008e-04, -2.71430355e-03,  1.56142714e-03],\n",
       "       [-6.98308286e-04, -3.63351987e-03,  7.49076542e-04],\n",
       "       [-7.04972190e-04, -3.50057054e-03,  1.11664995e-03],\n",
       "       [-7.02298421e-04, -3.34789115e-03,  1.41215813e-03],\n",
       "       [-3.41319392e-04, -7.49169558e-04,  2.57401261e-03],\n",
       "       [-6.87937718e-04, -3.05872830e-03,  1.85784197e-03],\n",
       "       [-6.25460118e-04, -2.52495287e-03,  2.23953626e-03],\n",
       "       [-8.26242263e-04, -4.33149515e-03,  8.16872693e-04],\n",
       "       [-4.55428439e-04, -1.30272273e-03,  2.78283912e-03],\n",
       "       [-2.60015542e-04, -9.11091411e-05,  2.99211801e-03],\n",
       "       [-3.04252462e-04, -3.13873083e-04,  3.05551430e-03],\n",
       "       [ 2.96767743e-04,  2.90760468e-03,  2.61330232e-03],\n",
       "       [-2.20557267e-04,  2.37125088e-04,  3.21409456e-03],\n",
       "       [-1.50874203e-05,  1.39881461e-03,  3.19271977e-03],\n",
       "       [ 6.71740971e-04,  4.65280842e-03,  1.76833884e-03],\n",
       "       [-6.70539041e-04, -2.40819552e-03,  3.04329628e-03],\n",
       "       [-9.16423887e-05,  1.08580885e-03,  3.45832552e-03],\n",
       "       [ 8.45989736e-04,  5.41400118e-03,  1.26861292e-03],\n",
       "       [ 7.66068057e-04,  5.19206375e-03,  1.77131325e-03],\n",
       "       [ 7.60270515e-04,  5.21737803e-03,  1.89682783e-03],\n",
       "       [ 9.01781372e-04,  5.75787667e-03,  1.32396002e-03],\n",
       "       [ 8.10865720e-04,  5.49929962e-03,  1.88267371e-03],\n",
       "       [ 1.14461838e-03,  6.08085748e-03, -9.58963472e-04],\n",
       "       [ 1.00171380e-03,  6.22910494e-03,  1.11193594e-03],\n",
       "       [ 1.03887462e-03,  6.39151735e-03,  1.00553059e-03],\n",
       "       [ 1.09086942e-03,  6.58186618e-03,  7.77316513e-04],\n",
       "       [ 1.16451422e-03,  6.77773310e-03,  2.95518985e-04],\n",
       "       [ 7.76975357e-04,  5.63365174e-03,  2.58708349e-03],\n",
       "       [ 1.25473202e-03,  6.32134406e-03, -1.79196021e-03],\n",
       "       [ 1.27097336e-03,  7.09910830e-03, -3.18741659e-04],\n",
       "       [ 8.25147901e-04,  2.78336182e-03, -4.13225451e-03],\n",
       "       [ 1.33416464e-03,  6.97304402e-03, -1.36458687e-03],\n",
       "       [ 1.25295809e-03,  5.82808442e-03, -2.83081783e-03],\n",
       "       [ 1.26509473e-03,  5.85249811e-03, -2.92712776e-03],\n",
       "       [ 1.39540783e-03,  7.23218080e-03, -1.55828521e-03],\n",
       "       [ 7.88535806e-04,  2.34408351e-03, -4.62789461e-03],\n",
       "       [ 4.48717037e-05, -1.99608062e-03, -4.84214397e-03],\n",
       "       [ 1.13663287e-03,  4.59147850e-03, -4.06351965e-03],\n",
       "       [ 1.19116053e-03,  4.93557286e-03, -3.99220455e-03],\n",
       "       [ 1.13877712e-03,  4.50438866e-03, -4.27707098e-03],\n",
       "       [ 1.52470951e-03,  7.96718989e-03, -1.56322052e-03],\n",
       "       [ 8.31824029e-04,  2.38166051e-03, -5.07784868e-03],\n",
       "       [ 3.91290901e-04, -2.83121190e-04, -5.40634152e-03],\n",
       "       [-3.94541508e-04, -4.47688112e-03, -4.78877127e-03],\n",
       "       [-4.82923177e-04, -4.93999105e-03, -4.70091356e-03],\n",
       "       [ 4.55509202e-04, -1.80066036e-05, -5.62366471e-03],\n",
       "       [ 1.84760196e-04, -1.56901719e-03, -5.63902827e-03],\n",
       "       [-1.06519216e-03, -7.64374435e-03, -3.37539543e-03],\n",
       "       [-2.39535613e-04, -3.87116242e-03, -5.38686337e-03],\n",
       "       [-1.27715859e-04, -3.33090662e-03, -5.59621304e-03],\n",
       "       [-1.56964944e-03, -9.46931913e-03, -1.11565646e-03],\n",
       "       [-1.52641523e-03, -9.43922345e-03, -1.58103486e-03],\n",
       "       [-1.06608320e-03, -7.85624143e-03, -3.82138137e-03],\n",
       "       [-7.61949865e-04, -6.56605884e-03, -4.77617374e-03],\n",
       "       [ 3.10982927e-04, -1.13818701e-03, -6.26025908e-03],\n",
       "       [-1.73839252e-03, -1.01597309e-02, -5.31241414e-04],\n",
       "       [-1.03529030e-03, -7.88782071e-03, -4.26683342e-03],\n",
       "       [-2.93455785e-04, -4.44321707e-03, -5.95578691e-03],\n",
       "       [-1.70936040e-03, -7.73781771e-03,  4.32040170e-03],\n",
       "       [-1.92072324e-03, -9.89357755e-03,  2.27657799e-03],\n",
       "       [-1.49195187e-03, -9.84731223e-03, -2.88105966e-03],\n",
       "       [-1.58547622e-03, -1.02118216e-02, -2.51813652e-03],\n",
       "       [-1.74167717e-03, -7.72173330e-03,  4.75121895e-03],\n",
       "       [-1.94288907e-03, -1.11091929e-02, -6.54683463e-05],\n",
       "       [-1.22977630e-03, -3.99817154e-03,  6.48127077e-03],\n",
       "       [-1.59488339e-03, -6.43313210e-03,  5.72215067e-03],\n",
       "       [-1.52828475e-03, -5.91104059e-03,  6.02819258e-03],\n",
       "       [-1.49310508e-03, -5.61995292e-03,  6.22275751e-03]], dtype=float32)"
      ]
     },
     "execution_count": 11,
     "metadata": {},
     "output_type": "execute_result"
    }
   ],
   "source": [
    "X, y = spiral_data(samples=100, classes=3)\n",
    "\n",
    "dense1 = Layer_Dense(2, 3)\n",
    "\n",
    "dense1.forward(X)\n",
    "\n",
    "dense1.output\n"
   ]
  },
  {
   "cell_type": "markdown",
   "id": "30fa472b",
   "metadata": {},
   "source": [
    "## Chapter 4 Activation Functions"
   ]
  },
  {
   "cell_type": "markdown",
   "id": "bc2e0ae5",
   "metadata": {},
   "source": [
    "#### Two type of activation function\n",
    "        1. activation used in hidden layer (might be same for all but not compulsary)\n",
    "        2. activation used in output layer"
   ]
  },
  {
   "cell_type": "markdown",
   "id": "fad02b9f",
   "metadata": {},
   "source": [
    "#### ReLU Activation Function Code                                        "
   ]
  },
  {
   "cell_type": "code",
   "execution_count": 1,
   "id": "99ec0baa",
   "metadata": {},
   "outputs": [
    {
     "data": {
      "text/plain": [
       "[0, 2, 0, 3.3, 0, 1.1, 2.2, 0]"
      ]
     },
     "execution_count": 1,
     "metadata": {},
     "output_type": "execute_result"
    }
   ],
   "source": [
    "inputs = [0, 2, -1, 3.3, -2.7, 1.1, 2.2, -100]\n",
    "\n",
    "output = []\n",
    "\n",
    "for i in inputs:\n",
    "    if i > 0:\n",
    "        output.append(i)\n",
    "    else:\n",
    "        output.append(0)\n",
    "output"
   ]
  },
  {
   "cell_type": "code",
   "execution_count": 4,
   "id": "8196e4a5",
   "metadata": {},
   "outputs": [
    {
     "data": {
      "text/plain": [
       "[0, 2, 0, 3.3, 0, 1.1, 2.2, 0]"
      ]
     },
     "execution_count": 4,
     "metadata": {},
     "output_type": "execute_result"
    }
   ],
   "source": [
    "inputs = [0, 2, -1, 3.3, -2.7, 1.1, 2.2, -100]\n",
    "\n",
    "output = []\n",
    "\n",
    "for i in inputs:\n",
    "\n",
    "    output.append(max(0,i))\n",
    "\n",
    "output"
   ]
  },
  {
   "cell_type": "code",
   "execution_count": 7,
   "id": "d2a205d1",
   "metadata": {},
   "outputs": [
    {
     "data": {
      "text/plain": [
       "array([0. , 2. , 0. , 3.3, 0. , 1.1, 2.2, 0. ])"
      ]
     },
     "execution_count": 7,
     "metadata": {},
     "output_type": "execute_result"
    }
   ],
   "source": [
    "import numpy as np\n",
    "inputs = [0, 2, -1, 3.3, -2.7, 1.1, 2.2, -100]\n",
    "output = np.maximum(0, inputs)\n",
    "output"
   ]
  },
  {
   "cell_type": "code",
   "execution_count": 10,
   "id": "6200c26f",
   "metadata": {},
   "outputs": [
    {
     "name": "stdout",
     "output_type": "stream",
     "text": [
      "[[0.         0.         0.        ]\n",
      " [0.         0.00011395 0.        ]\n",
      " [0.         0.00031729 0.        ]\n",
      " [0.         0.00052666 0.        ]\n",
      " [0.         0.00071401 0.        ]]\n"
     ]
    }
   ],
   "source": [
    "class Activation_ReLU:\n",
    "    def forward(self, inputs):\n",
    "        self.output = np.maximum(0, inputs)\n",
    "\n",
    "\n",
    "X, y = spiral_data(samples=100, classes=3)\n",
    "dense1 = Layer_Dense(2, 3)\n",
    "\n",
    "activation1 = Activation_ReLU()\n",
    "\n",
    "dense1.forward(X)\n",
    "\n",
    "activation1.forward(dense1.output)\n",
    "\n",
    "print(activation1.output[:5])"
   ]
  },
  {
   "cell_type": "markdown",
   "id": "a18f238d",
   "metadata": {},
   "source": [
    "#### Softmax Activation"
   ]
  },
  {
   "cell_type": "code",
   "execution_count": 3,
   "id": "a09ee890",
   "metadata": {},
   "outputs": [
    {
     "data": {
      "text/plain": [
       "[0.9724257028383375, 0.026837325858959028, 0.0007369713027034477]"
      ]
     },
     "execution_count": 3,
     "metadata": {},
     "output_type": "execute_result"
    }
   ],
   "source": [
    "# without numpy\n",
    "layer_outputs = [4.8, 1.21, -2.385]\n",
    "\n",
    "e = 2.71828182846\n",
    "\n",
    "exp_values = []\n",
    "\n",
    "for output in layer_outputs:\n",
    "    exp_values.append(e**output)\n",
    "\n",
    "norm_base = sum(exp_values)\n",
    "norm_values = []\n",
    "\n",
    "for values in exp_values:\n",
    "    norm_values.append(values / norm_base)\n",
    "\n",
    "# normalize betw 0 to 1\n",
    "norm_values"
   ]
  },
  {
   "cell_type": "code",
   "execution_count": 11,
   "id": "264d29db",
   "metadata": {},
   "outputs": [
    {
     "name": "stdout",
     "output_type": "stream",
     "text": [
      "[1.21510418e+02 3.35348465e+00 9.20889796e-02]\n"
     ]
    },
    {
     "data": {
      "text/plain": [
       "array([9.72425703e-01, 2.68373259e-02, 7.36971303e-04])"
      ]
     },
     "execution_count": 11,
     "metadata": {},
     "output_type": "execute_result"
    }
   ],
   "source": [
    "# with numpy\n",
    "import numpy as np\n",
    "\n",
    "layer_outputs = [4.8, 1.21, -2.385]\n",
    "\n",
    "exp_values = np.exp(layer_outputs)\n",
    "\n",
    "print(exp_values)\n",
    "\n",
    "norm_values = exp_values / np.sum(exp_values)\n",
    "\n",
    "norm_values"
   ]
  },
  {
   "cell_type": "code",
   "execution_count": 18,
   "id": "58b6a371",
   "metadata": {},
   "outputs": [
    {
     "name": "stdout",
     "output_type": "stream",
     "text": [
      "13.402\n",
      "[[15.11   0.451 -2.159]]\n"
     ]
    }
   ],
   "source": [
    "layer_out= [[4.8, 1.21, -2.385],\n",
    "                [8.9, -1.81, 0.2],\n",
    "                [1.41, 1.051, 0.026]]\n",
    "\n",
    "print(np.sum(layer_out))\n",
    "# axis 0 => 4.8 + 8.9 + 1.41 means its taking the value from each row so keepdim row\n",
    "# axis 1 => 4.8 + 1.21 + (-2.385) means its taking the value from each columns so keepdim column  \n",
    "print(np.sum(layer_out,axis=0, keepdims=True))"
   ]
  },
  {
   "cell_type": "code",
   "execution_count": 19,
   "id": "51c92294",
   "metadata": {},
   "outputs": [],
   "source": [
    "# testing\n",
    "class Activation_softmax:\n",
    "    #forward pass \n",
    "    def forward(self, inputs):\n",
    "        exp_values = np.exp(inputs - np.max(inputs, axis=1, keepdims=True))\n",
    "        probabilities = exp_values / np.sum(exp_values, axis=1, keepdims= True)\n",
    "        self.output = probabilities\n",
    "\n",
    "softmax = Activation_softmax()"
   ]
  },
  {
   "cell_type": "code",
   "execution_count": 21,
   "id": "79d01855",
   "metadata": {},
   "outputs": [
    {
     "data": {
      "text/plain": [
       "array([[0.09003057, 0.24472847, 0.66524096]])"
      ]
     },
     "execution_count": 21,
     "metadata": {},
     "output_type": "execute_result"
    }
   ],
   "source": [
    "softmax.forward([[1,2,3]])\n",
    "softmax.output"
   ]
  },
  {
   "cell_type": "code",
   "execution_count": 22,
   "id": "1016db32",
   "metadata": {},
   "outputs": [
    {
     "data": {
      "text/plain": [
       "array([[0.09003057, 0.24472847, 0.66524096]])"
      ]
     },
     "execution_count": 22,
     "metadata": {},
     "output_type": "execute_result"
    }
   ],
   "source": [
    "softmax.forward([[1-3,2-3,3-3]])\n",
    "softmax.output"
   ]
  },
  {
   "cell_type": "code",
   "execution_count": 23,
   "id": "558ccbe9",
   "metadata": {},
   "outputs": [],
   "source": [
    "import nnfs\n",
    "import numpy as np\n",
    "from nnfs.datasets import spiral_data\n",
    "import matplotlib.pyplot as plt\n",
    "nnfs.init()"
   ]
  },
  {
   "cell_type": "code",
   "execution_count": 24,
   "id": "50a286fd",
   "metadata": {},
   "outputs": [],
   "source": [
    "class Layer_Dense:\n",
    "    def __init__(self, n_inputs, n_neurons):\n",
    "        self.weights = 0.01 * np.random.randn(n_inputs, n_neurons)\n",
    "        self.baises = np.zeros((1,n_neurons))\n",
    "\n",
    "    def forward(self, inputs):\n",
    "        self.output = np.dot(inputs,self.weights) + self.baises\n",
    "\n",
    "class Activation_ReLU:\n",
    "    def forward(self, inputs):\n",
    "        self.output = np.maximum(0, inputs)\n",
    "\n",
    "class Activation_softmax:\n",
    "    #forward pass \n",
    "    def forward(self, inputs):\n",
    "        exp_values = np.exp(inputs - np.max(inputs, axis=1, keepdims=True))\n",
    "        probabilities = exp_values / np.sum(exp_values, axis=1, keepdims= True)\n",
    "        self.output = probabilities\n",
    "\n",
    "    \n"
   ]
  },
  {
   "cell_type": "code",
   "execution_count": 25,
   "id": "2d82e631",
   "metadata": {},
   "outputs": [
    {
     "name": "stdout",
     "output_type": "stream",
     "text": [
      "[[0.33333334 0.33333334 0.33333334]\n",
      " [0.3333332  0.3333332  0.33333364]\n",
      " [0.3333329  0.33333293 0.3333342 ]\n",
      " [0.3333326  0.33333263 0.33333477]\n",
      " [0.33333233 0.3333324  0.33333528]]\n"
     ]
    }
   ],
   "source": [
    "X, y = spiral_data(samples=100, classes=3)\n",
    "\n",
    "dense1 = Layer_Dense(2, 3)\n",
    "\n",
    "activation1 = Activation_ReLU()\n",
    "\n",
    "dense2 = Layer_Dense(3, 3)\n",
    "\n",
    "activation2 = Activation_softmax()\n",
    "\n",
    "dense1.forward(X)\n",
    "\n",
    "activation1.forward(dense1.output)\n",
    "\n",
    "dense2.forward(activation1.output)\n",
    "\n",
    "activation2.forward(dense2.output)\n",
    "\n",
    "print(activation2.output[:5])"
   ]
  },
  {
   "cell_type": "markdown",
   "id": "27f3d1b6",
   "metadata": {},
   "source": [
    "## Chapter 5 Calculating Network Error with Loss"
   ]
  },
  {
   "cell_type": "code",
   "execution_count": 1,
   "id": "89a9aa86",
   "metadata": {},
   "outputs": [
    {
     "data": {
      "text/plain": [
       "0.35667494393873245"
      ]
     },
     "execution_count": 1,
     "metadata": {},
     "output_type": "execute_result"
    }
   ],
   "source": [
    "import math \n",
    "\n",
    "softmax_output = [0.7, 0.1, 0.2]\n",
    "target_output = [1, 0, 0]\n",
    "\n",
    "loss = -(math.log(softmax_output[0])*target_output[0] +\n",
    "        math.log(softmax_output[1])*target_output[1]+\n",
    "        math.log(softmax_output[2])*target_output[2])\n",
    "loss"
   ]
  },
  {
   "cell_type": "code",
   "execution_count": 1,
   "id": "2991865b",
   "metadata": {},
   "outputs": [],
   "source": [
    "import numpy as np"
   ]
  },
  {
   "cell_type": "code",
   "execution_count": 4,
   "id": "306ced5c",
   "metadata": {},
   "outputs": [],
   "source": [
    "softmax_outputs = np.array([[0.7, 0.1, 0.2],\n",
    "                    [0.1, 0.5, 0.4],\n",
    "                    [0.02, 0.9, 0.08]])\n",
    "class_targets = [0, 1, 1]"
   ]
  },
  {
   "cell_type": "code",
   "execution_count": 5,
   "id": "8ece8346",
   "metadata": {},
   "outputs": [
    {
     "data": {
      "text/plain": [
       "array([0.7, 0.5, 0.9])"
      ]
     },
     "execution_count": 5,
     "metadata": {},
     "output_type": "execute_result"
    }
   ],
   "source": [
    "softmax_outputs[[0,1,2],class_targets]"
   ]
  },
  {
   "cell_type": "code",
   "execution_count": 7,
   "id": "f880fcac",
   "metadata": {},
   "outputs": [
    {
     "data": {
      "text/plain": [
       "array([0.35667494, 0.69314718, 0.10536052])"
      ]
     },
     "execution_count": 7,
     "metadata": {},
     "output_type": "execute_result"
    }
   ],
   "source": [
    "-np.log(softmax_outputs[range(len(softmax_outputs)),class_targets])"
   ]
  },
  {
   "cell_type": "code",
   "execution_count": 8,
   "id": "b44854d2",
   "metadata": {},
   "outputs": [],
   "source": [
    "softmax_outputs = np.array([[0.7, 0.1, 0.2],\n",
    "                    [0.1, 0.5, 0.4],\n",
    "                    [0.02, 0.9, 0.08]])\n",
    "class_targets = np.array([[1,0,0],\n",
    "                           [0,1,0],\n",
    "                            [0,1,0]])"
   ]
  },
  {
   "cell_type": "code",
   "execution_count": 11,
   "id": "3759fa60",
   "metadata": {},
   "outputs": [
    {
     "data": {
      "text/plain": [
       "0.38506088005216804"
      ]
     },
     "execution_count": 11,
     "metadata": {},
     "output_type": "execute_result"
    }
   ],
   "source": [
    "if len(class_targets.shape) == 1:\n",
    "    correct_confidences = softmax_outputs[\n",
    "        range(len(softmax_outputs)),\n",
    "        class_targets\n",
    "        ]\n",
    "\n",
    "elif len(class_targets.shape) == 2:\n",
    "    correct_confidences = np.sum(\n",
    "        softmax_outputs * class_targets,\n",
    "        axis=1\n",
    "    )\n",
    "neg_log = -np.log(correct_confidences)\n",
    "avg_log = np.mean(neg_log)\n",
    "avg_log"
   ]
  },
  {
   "cell_type": "code",
   "execution_count": 13,
   "id": "3895ef3f",
   "metadata": {},
   "outputs": [
    {
     "name": "stderr",
     "output_type": "stream",
     "text": [
      "C:\\Users\\yukes\\AppData\\Local\\Temp\\ipykernel_7904\\2869289095.py:1: RuntimeWarning: divide by zero encountered in log\n",
      "  -np.log(0)\n"
     ]
    },
    {
     "data": {
      "text/plain": [
       "inf"
      ]
     },
     "execution_count": 13,
     "metadata": {},
     "output_type": "execute_result"
    }
   ],
   "source": [
    "-np.log(0)"
   ]
  },
  {
   "cell_type": "code",
   "execution_count": 11,
   "id": "9f91269d",
   "metadata": {},
   "outputs": [],
   "source": [
    "# Accuracy calculation\n",
    "import numpy as np\n",
    "\n",
    "softmax_outputs = np.array([[0.7, 0.1, 0.2],\n",
    "                    [0.1, 0.5, 0.4],\n",
    "                    [0.02, 0.9, 0.08]])\n",
    "\n",
    "class_targets = np.array([0, 1, 1])"
   ]
  },
  {
   "cell_type": "code",
   "execution_count": 12,
   "id": "84431493",
   "metadata": {},
   "outputs": [
    {
     "data": {
      "text/plain": [
       "array([0, 1, 1], dtype=int64)"
      ]
     },
     "execution_count": 12,
     "metadata": {},
     "output_type": "execute_result"
    }
   ],
   "source": [
    "# argmax takes the highest and provide the label in array\n",
    "predictions = np.argmax(softmax_outputs, axis=1)\n",
    "predictions"
   ]
  },
  {
   "cell_type": "code",
   "execution_count": 13,
   "id": "44763e64",
   "metadata": {},
   "outputs": [],
   "source": [
    "if len(class_targets.shape) == 2:\n",
    "    class_targets = np.argmax(class_targets, axis=1)\n",
    "    print(class_targets)"
   ]
  },
  {
   "cell_type": "code",
   "execution_count": 14,
   "id": "fdeee87e",
   "metadata": {},
   "outputs": [
    {
     "data": {
      "text/plain": [
       "1.0"
      ]
     },
     "execution_count": 14,
     "metadata": {},
     "output_type": "execute_result"
    }
   ],
   "source": [
    "accuracy = np.mean(predictions==class_targets)\n",
    "accuracy"
   ]
  },
  {
   "cell_type": "markdown",
   "id": "2642693b",
   "metadata": {},
   "source": [
    "## FEED FORWARD NEURAL NETWORK"
   ]
  },
  {
   "cell_type": "code",
   "execution_count": 16,
   "id": "dcbc72e4",
   "metadata": {},
   "outputs": [],
   "source": [
    "import numpy as np\n",
    "import nnfs\n",
    "from nnfs.datasets import spiral_data\n",
    "\n",
    "nnfs.init()"
   ]
  },
  {
   "cell_type": "code",
   "execution_count": 17,
   "id": "9e1ae467",
   "metadata": {},
   "outputs": [],
   "source": [
    "# Dense layer\n",
    "class Layer_Dense:\n",
    "    # Layer initialization\n",
    "    def __init__(self, n_inputs, n_neurons):\n",
    "        # initialize weights and biases\n",
    "        self.weights = 0.01 * np.random.randn(n_inputs,n_neurons)\n",
    "        self.biases = np.zeros((1,n_neurons))\n",
    "\n",
    "    # Forward pass\n",
    "    def forward(self, inputs):\n",
    "        # Calculate output values from inputs, weights and biases\n",
    "        self.output = np.dot(inputs, self.weights) + self.biases\n",
    "\n",
    "# ReLU activation\n",
    "class Activation_ReLU:\n",
    "    # Forward pass\n",
    "    def forward(self, inputs):\n",
    "        # Calculate output values from inputs\n",
    "        self.output = np.maximum(0, inputs)\n",
    "\n",
    "\n",
    "# Softmax activation\n",
    "class Activation_softmax:\n",
    "    #forward pass \n",
    "    def forward(self, inputs):\n",
    "        # Get unnormalized probabilities \n",
    "        exp_values = np.exp(inputs - np.max(inputs, axis=1, keepdims=True))\n",
    "        # Normalized them for each samples\n",
    "        probabilities = exp_values / np.sum(exp_values, axis=1, keepdims= True)\n",
    "        self.output = probabilities\n",
    "\n",
    "# Common loss class\n",
    "class Loss:\n",
    "\n",
    "    # Calculates the data and regularization losses\n",
    "    #  given model output and ground truth values\n",
    "    def calculate(self, output, y):\n",
    "\n",
    "        # Calculate samples losses\n",
    "        sample_losses =self.forward(output, y)\n",
    "        \n",
    "        # Calculate mean loss\n",
    "        data_loss = np.mean(sample_losses)\n",
    "\n",
    "        # Return loss\n",
    "        return data_loss\n",
    "\n",
    "# Cross-entropy loss\n",
    "class Loss_CategoricalCrossentropy(Loss):\n",
    "\n",
    "    #  Forward pass\n",
    "    def forward(self, y_pred, y_true):\n",
    "        \n",
    "        # Number of samples in a batch\n",
    "        samples = len(y_pred)\n",
    "\n",
    "        # Clip data to prevent division by 0\n",
    "        # Clip both sides to not drag mean toward any values \n",
    "        y_pred_clipped = np.clip(y_pred,1e-7,1- 1e-7)\n",
    "\n",
    "        #  Probabilities for target values\n",
    "        #  Only if categorical lables\n",
    "        if len(y_true.shape) == 1:\n",
    "            correct_confidences = y_pred_clipped[\n",
    "                range(samples),\n",
    "                y_true\n",
    "                ]\n",
    "\n",
    "        # Mask values - only for one hot encoded labels\n",
    "        elif len(y_true.shape) == 2:\n",
    "            correct_confidences = np.sum(\n",
    "                y_pred_clipped * y_true,\n",
    "                axis=1\n",
    "            )\n",
    "        \n",
    "        # Losses\n",
    "        negative_log_likelihoods = -np.log(correct_confidences)\n",
    "        return negative_log_likelihoods  "
   ]
  },
  {
   "cell_type": "code",
   "execution_count": 18,
   "id": "cec411d6",
   "metadata": {},
   "outputs": [
    {
     "name": "stdout",
     "output_type": "stream",
     "text": [
      "[[0.33333334 0.33333334 0.33333334]\n",
      " [0.3333332  0.3333332  0.33333364]\n",
      " [0.3333329  0.33333293 0.3333342 ]\n",
      " [0.3333326  0.33333263 0.33333477]\n",
      " [0.33333233 0.3333324  0.33333528]]\n",
      "Loss: 1.0986104\n"
     ]
    }
   ],
   "source": [
    "\n",
    "# Create dataset\n",
    "X, y = spiral_data(samples=100, classes=3)\n",
    "\n",
    "# Create Dense layer with 2 inputs features and  3 output values \n",
    "dense1 = Layer_Dense(2,3)\n",
    "\n",
    "#  Create ReLU activation \n",
    "activation1 = Activation_ReLU()\n",
    "\n",
    "# Create the second dense layer with 3 inputs features\n",
    "\n",
    "dense2 = Layer_Dense(3,3)\n",
    "\n",
    "# Create the softmax activation function\n",
    "activation2 = Activation_softmax()\n",
    "\n",
    "# Create loss function \n",
    "loss_function = Loss_CategoricalCrossentropy()\n",
    "\n",
    "# Perform a forward pass of our training data through this layer\n",
    "dense1.forward(X)\n",
    "\n",
    "# Perform a forward pass  through activation function \n",
    "# Takes the output of the first dense layer\n",
    "activation1.forward(dense1.output)\n",
    "\n",
    "# Perform a forward pass  through second Dense layer\n",
    "# Takes the output of activation function of first layer as inputs\n",
    "dense2.forward(activation1.output)\n",
    "\n",
    "# Perform a forward pass  through activation function \n",
    "# Takes the output of the second dense layer\n",
    "activation2.forward(dense2.output)\n",
    "\n",
    "# output of some samples\n",
    "print(activation2.output[:5])\n",
    "\n",
    "# Perform a forward pass through loss function\n",
    "# it takes the output of second dense layer here and returns loss\n",
    "loss = loss_function.calculate(activation2.output, y)\n",
    "\n",
    "\n",
    "print('Loss:',loss)"
   ]
  },
  {
   "cell_type": "code",
   "execution_count": 19,
   "id": "90ea27fe",
   "metadata": {},
   "outputs": [
    {
     "name": "stdout",
     "output_type": "stream",
     "text": [
      "accuracy:  0.34\n"
     ]
    }
   ],
   "source": [
    "# Calculate accuracy from output of activation2 and targets\n",
    "# calculate values along first axis\n",
    "predictions = np.argmax(activation2.output, axis=1)\n",
    "\n",
    "\n",
    "if len(y.shape) == 2:\n",
    "    y = np.argmax(y, axis=1)\n",
    "\n",
    "# Print accuracy\n",
    "accuracy = np.mean( predictions== y)\n",
    "\n",
    "print('accuracy: ',accuracy)"
   ]
  },
  {
   "cell_type": "markdown",
   "id": "003696fc",
   "metadata": {},
   "source": [
    "## Chapter 6 Introducing Optimization"
   ]
  },
  {
   "cell_type": "markdown",
   "id": "8accd901",
   "metadata": {},
   "source": [
    "#### 1. first option might be random changing the weights, checking the loss, and repeating this until lowest loss found"
   ]
  },
  {
   "cell_type": "code",
   "execution_count": 5,
   "id": "28a03576",
   "metadata": {},
   "outputs": [],
   "source": [
    "import matplotlib.pyplot as plt \n",
    "import numpy as np\n",
    "import nnfs\n",
    "from nnfs.datasets import vertical_data\n",
    "\n",
    "nnfs.init()"
   ]
  },
  {
   "cell_type": "code",
   "execution_count": 2,
   "id": "9dcc7685",
   "metadata": {},
   "outputs": [
    {
     "data": {
      "image/png": "[encoded data removed]",
      "text/plain": [
       "<Figure size 432x288 with 1 Axes>"
      ]
     },
     "metadata": {
      "needs_background": "light"
     },
     "output_type": "display_data"
    }
   ],
   "source": [
    "\n",
    "\n",
    "plt.scatter(X[:,0],X[:,1],c=y, s=40, cmap='brg')\n",
    "plt.show()"
   ]
  },
  {
   "cell_type": "code",
   "execution_count": 8,
   "id": "4ae86f93",
   "metadata": {},
   "outputs": [],
   "source": [
    "# Dense layer\n",
    "class Layer_Dense:\n",
    "    # Layer initialization\n",
    "    def __init__(self, n_inputs, n_neurons):\n",
    "        # initialize weights and biases\n",
    "        self.weights = 0.01 * np.random.randn(n_inputs,n_neurons)\n",
    "        self.biases = np.zeros((1,n_neurons))\n",
    "\n",
    "    # Forward pass\n",
    "    def forward(self, inputs):\n",
    "        # Calculate output values from inputs, weights and biases\n",
    "        self.output = np.dot(inputs, self.weights) + self.biases\n",
    "\n",
    "# ReLU activation\n",
    "class Activation_ReLU:\n",
    "    # Forward pass\n",
    "    def forward(self, inputs):\n",
    "        # Calculate output values from inputs\n",
    "        self.output = np.maximum(0, inputs)\n",
    "\n",
    "\n",
    "# Softmax activation\n",
    "class Activation_softmax:\n",
    "    #forward pass \n",
    "    def forward(self, inputs):\n",
    "        # Get unnormalized probabilities \n",
    "        exp_values = np.exp(inputs - np.max(inputs, axis=1, keepdims=True))\n",
    "        # Normalized them for each samples\n",
    "        probabilities = exp_values / np.sum(exp_values, axis=1, keepdims= True)\n",
    "        self.output = probabilities\n",
    "\n",
    "# Common loss class\n",
    "class Loss:\n",
    "\n",
    "    # Calculates the data and regularization losses\n",
    "    #  given model output and ground truth values\n",
    "    def calculate(self, output, y):\n",
    "\n",
    "        # Calculate samples losses\n",
    "        sample_losses =self.forward(output, y)\n",
    "        \n",
    "        # Calculate mean loss\n",
    "        data_loss = np.mean(sample_losses)\n",
    "\n",
    "        # Return loss\n",
    "        return data_loss\n",
    "\n",
    "# Cross-entropy loss\n",
    "class Loss_CategoricalCrossentropy(Loss):\n",
    "\n",
    "    #  Forward pass\n",
    "    def forward(self, y_pred, y_true):\n",
    "        \n",
    "        # Number of samples in a batch\n",
    "        samples = len(y_pred)\n",
    "\n",
    "        # Clip data to prevent division by 0\n",
    "        # Clip both sides to not drag mean toward any values \n",
    "        y_pred_clipped = np.clip(y_pred,1e-7,1- 1e-7)\n",
    "\n",
    "        #  Probabilities for target values\n",
    "        #  Only if categorical lables\n",
    "        if len(y_true.shape) == 1:\n",
    "            correct_confidences = y_pred_clipped[\n",
    "                range(samples),\n",
    "                y_true\n",
    "                ]\n",
    "\n",
    "        # Mask values - only for one hot encoded labels\n",
    "        elif len(y_true.shape) == 2:\n",
    "            correct_confidences = np.sum(\n",
    "                y_pred_clipped * y_true,\n",
    "                axis=1\n",
    "            )\n",
    "        \n",
    "        # Losses\n",
    "        negative_log_likelihoods = -np.log(correct_confidences)\n",
    "        return negative_log_likelihoods  "
   ]
  },
  {
   "cell_type": "code",
   "execution_count": 9,
   "id": "3783ced9",
   "metadata": {},
   "outputs": [],
   "source": [
    "X, y = vertical_data(samples=100, classes=3)\n",
    "\n",
    "# Create Dense layer with 2 inputs features and  3 output values \n",
    "dense1 = Layer_Dense(2,3)\n",
    "\n",
    "#  Create ReLU activation \n",
    "activation1 = Activation_ReLU()\n",
    "\n",
    "# Create the second dense layer with 3 inputs features\n",
    "\n",
    "dense2 = Layer_Dense(3,3)\n",
    "\n",
    "# Create the softmax activation function\n",
    "activation2 = Activation_softmax()\n",
    "\n",
    "# Create loss function \n",
    "loss_function = Loss_CategoricalCrossentropy()\n"
   ]
  },
  {
   "cell_type": "code",
   "execution_count": 10,
   "id": "eb249795",
   "metadata": {},
   "outputs": [],
   "source": [
    "lowest_loss = 9999999\n",
    "best_dense1_weights = dense1.weights.copy()\n",
    "best_dense1_biases = dense1.biases.copy()\n",
    "best_dense2_weights = dense2.weights.copy()\n",
    "best_dense2_biases = dense2.biases.copy()"
   ]
  },
  {
   "cell_type": "code",
   "execution_count": 12,
   "id": "ad376970",
   "metadata": {},
   "outputs": [
    {
     "name": "stdout",
     "output_type": "stream",
     "text": [
      "New set of weights found, iteration: 0 loss: 1.0984284 acc: 0.3333333333333333\n",
      "New set of weights found, iteration: 27 loss: 1.0929897 acc: 0.3333333333333333\n",
      "New set of weights found, iteration: 153 loss: 1.0902599 acc: 0.31333333333333335\n",
      "New set of weights found, iteration: 154 loss: 1.089233 acc: 0.33\n",
      "New set of weights found, iteration: 177 loss: 1.088917 acc: 0.3333333333333333\n",
      "New set of weights found, iteration: 893 loss: 1.0503341 acc: 0.42\n",
      "New set of weights found, iteration: 898 loss: 1.0294942 acc: 0.48\n",
      "New set of weights found, iteration: 900 loss: 1.0129408 acc: 0.4266666666666667\n",
      "New set of weights found, iteration: 911 loss: 1.0036229 acc: 0.35\n",
      "New set of weights found, iteration: 995 loss: 1.0030105 acc: 0.3566666666666667\n",
      "New set of weights found, iteration: 996 loss: 0.9349467 acc: 0.37\n",
      "New set of weights found, iteration: 997 loss: 0.92071146 acc: 0.37\n",
      "New set of weights found, iteration: 998 loss: 0.87811714 acc: 0.39666666666666667\n",
      "New set of weights found, iteration: 999 loss: 0.8395291 acc: 0.49\n",
      "New set of weights found, iteration: 1000 loss: 0.8256732 acc: 0.56\n",
      "New set of weights found, iteration: 1002 loss: 0.8106529 acc: 0.41333333333333333\n",
      "New set of weights found, iteration: 1008 loss: 0.78039974 acc: 0.6233333333333333\n",
      "New set of weights found, iteration: 1010 loss: 0.75269496 acc: 0.62\n",
      "New set of weights found, iteration: 1013 loss: 0.7420444 acc: 0.5133333333333333\n",
      "New set of weights found, iteration: 1014 loss: 0.7328533 acc: 0.5866666666666667\n",
      "New set of weights found, iteration: 1688 loss: 0.7164244 acc: 0.6666666666666666\n",
      "New set of weights found, iteration: 2271 loss: 0.6967749 acc: 0.6666666666666666\n",
      "New set of weights found, iteration: 2272 loss: 0.6793239 acc: 0.6666666666666666\n",
      "New set of weights found, iteration: 2273 loss: 0.6720031 acc: 0.6666666666666666\n",
      "New set of weights found, iteration: 2274 loss: 0.6584995 acc: 0.6666666666666666\n",
      "New set of weights found, iteration: 2275 loss: 0.65052074 acc: 0.6666666666666666\n",
      "New set of weights found, iteration: 2276 loss: 0.64476585 acc: 0.67\n",
      "New set of weights found, iteration: 2280 loss: 0.6414162 acc: 0.6666666666666666\n",
      "New set of weights found, iteration: 2338 loss: 0.64111316 acc: 0.6666666666666666\n",
      "New set of weights found, iteration: 2339 loss: 0.63281786 acc: 0.6666666666666666\n",
      "New set of weights found, iteration: 2340 loss: 0.6247503 acc: 0.6666666666666666\n",
      "New set of weights found, iteration: 2341 loss: 0.61585736 acc: 0.6666666666666666\n",
      "New set of weights found, iteration: 2346 loss: 0.6080417 acc: 0.6666666666666666\n",
      "New set of weights found, iteration: 2347 loss: 0.604151 acc: 0.6666666666666666\n",
      "New set of weights found, iteration: 2348 loss: 0.59603614 acc: 0.6666666666666666\n",
      "New set of weights found, iteration: 2353 loss: 0.5897284 acc: 0.6666666666666666\n",
      "New set of weights found, iteration: 2355 loss: 0.5862392 acc: 0.6666666666666666\n",
      "New set of weights found, iteration: 2403 loss: 0.56381 acc: 0.69\n"
     ]
    }
   ],
   "source": [
    "for iteration in range(10000):\n",
    "\n",
    "    dense1.weights += 0.05 * np.random.randn(2,3)\n",
    "    dense1.biases += 0.05 * np.random.randn(1,3)\n",
    "    dense2.weights += 0.05 * np.random.randn(3,3)\n",
    "    dense2.biases += 0.05 * np.random.randn(1,3)\n",
    "\n",
    "    dense1.forward(X)\n",
    "    activation1.forward(dense1.output)\n",
    "    dense2.forward(activation1.output)\n",
    "    activation2.forward(dense2.output)\n",
    "\n",
    "    loss = loss_function.calculate(activation2.output,y)\n",
    "\n",
    "    predictions = np.argmax(activation2.output, axis=1)\n",
    "\n",
    "    # Print accuracy\n",
    "    accuracy = np.mean( predictions== y)\n",
    "\n",
    "\n",
    "    if loss < lowest_loss:\n",
    "        print('New set of weights found, iteration:', iteration,\n",
    "                'loss:', loss, 'acc:', accuracy)\n",
    "        best_dense1_weights = dense1.weights.copy()\n",
    "        best_dense1_biases = dense1.biases.copy()\n",
    "        best_dense2_weights = dense2.weights.copy()\n",
    "        best_dense2_biases = dense2.biases.copy()\n",
    "        lowest_loss = loss\n",
    "    else:\n",
    "        best_dense1_weights = dense1.weights.copy()\n",
    "        best_dense1_biases = dense1.biases.copy()\n",
    "        best_dense2_weights = dense2.weights.copy()\n",
    "        best_dense2_biases = dense2.biases.copy()        "
   ]
  },
  {
   "cell_type": "markdown",
   "id": "17457c1c",
   "metadata": {},
   "source": [
    "## Chapter 7 Derivatives"
   ]
  },
  {
   "cell_type": "code",
   "execution_count": 1,
   "id": "5f54d56a",
   "metadata": {},
   "outputs": [],
   "source": [
    "import matplotlib.pyplot as plt\n",
    "import numpy as np\n",
    "\n",
    "def f(x):\n",
    "    return 2*x"
   ]
  },
  {
   "cell_type": "code",
   "execution_count": 2,
   "id": "85dca089",
   "metadata": {},
   "outputs": [
    {
     "name": "stdout",
     "output_type": "stream",
     "text": [
      "[0 1 2 3 4]\n",
      "[0 2 4 6 8]\n"
     ]
    }
   ],
   "source": [
    "x = np.array(range(5))\n",
    "y = f(x)\n",
    "print(x)\n",
    "print(y)"
   ]
  },
  {
   "cell_type": "code",
   "execution_count": 3,
   "id": "b39ce544",
   "metadata": {},
   "outputs": [
    {
     "data": {
      "image/png": "[encoded data removed]",
      "text/plain": [
       "<Figure size 432x288 with 1 Axes>"
      ]
     },
     "metadata": {
      "needs_background": "light"
     },
     "output_type": "display_data"
    }
   ],
   "source": [
    "# linear function\n",
    "plt.plot(x,y)\n",
    "plt.show()"
   ]
  },
  {
   "cell_type": "code",
   "execution_count": 4,
   "id": "447d4d01",
   "metadata": {},
   "outputs": [],
   "source": [
    "def f(x):\n",
    "    return 2*x**2"
   ]
  },
  {
   "cell_type": "code",
   "execution_count": 5,
   "id": "60ba0d60",
   "metadata": {},
   "outputs": [
    {
     "name": "stdout",
     "output_type": "stream",
     "text": [
      "[0 1 2 3 4]\n",
      "[ 0  2  8 18 32]\n"
     ]
    }
   ],
   "source": [
    "x = np.array(range(5))\n",
    "y = f(x)\n",
    "print(x)\n",
    "print(y)"
   ]
  },
  {
   "cell_type": "code",
   "execution_count": 7,
   "id": "2ffe5cf6",
   "metadata": {},
   "outputs": [
    {
     "data": {
      "image/png": "[encoded data removed]",
      "text/plain": [
       "<Figure size 432x288 with 1 Axes>"
      ]
     },
     "metadata": {
      "needs_background": "light"
     },
     "output_type": "display_data"
    }
   ],
   "source": [
    "# non-linear function\n",
    "plt.plot(x,y)\n",
    "plt.show()"
   ]
  },
  {
   "cell_type": "markdown",
   "id": "a53eaf7e",
   "metadata": {},
   "source": [
    "## Chapter 9 Backpropagation"
   ]
  },
  {
   "cell_type": "markdown",
   "id": "4adf6df7",
   "metadata": {},
   "source": [
    "#### simple single neuron test for backpropagation"
   ]
  },
  {
   "cell_type": "code",
   "execution_count": 2,
   "id": "084f41d1",
   "metadata": {},
   "outputs": [
    {
     "name": "stdout",
     "output_type": "stream",
     "text": [
      "1.0\n"
     ]
    }
   ],
   "source": [
    "# forward pass \n",
    "x = [1.0, -2.0, 3.0] # input values\n",
    "w = [-3.0,-1.0, 2.0] # output values\n",
    "b = 1.0 # bias\n",
    "\n",
    "# Multiply input and weights\n",
    "xw0 = x[0] * w[0]\n",
    "xw1 = x[1] * w[1]\n",
    "xw2 = x[2] * w[2]\n",
    "\n",
    "# Adding weighted input and a bias\n",
    "z = xw0 + xw1 + xw2 + b\n",
    "\n",
    "#  Relu activation function\n",
    "y = max(z,0)\n",
    "\n",
    "# Backward pass\n",
    "\n",
    "dvalue = 1.0\n",
    "drelu_dz = dvalue * (1. if z > 0 else 0)\n",
    "print(drelu_dz)"
   ]
  },
  {
   "cell_type": "markdown",
   "id": "04b03586",
   "metadata": {},
   "source": [
    "#### Partial derivative for single neuron"
   ]
  },
  {
   "cell_type": "code",
   "execution_count": 5,
   "id": "61d3e9db",
   "metadata": {},
   "outputs": [
    {
     "name": "stdout",
     "output_type": "stream",
     "text": [
      "1.0\n",
      "1.0 1.0 1.0 1.0\n",
      "-3.0 1.0\n",
      "-1.0 -2.0\n",
      "2.0 3.0\n"
     ]
    }
   ],
   "source": [
    "# forward pass \n",
    "x = [1.0, -2.0, 3.0] # input values\n",
    "w = [-3.0,-1.0, 2.0] # output values\n",
    "b = 1.0 # bias\n",
    "\n",
    "# Multiply input and weights\n",
    "xw0 = x[0] * w[0]\n",
    "xw1 = x[1] * w[1]\n",
    "xw2 = x[2] * w[2]\n",
    "\n",
    "# Adding weighted input and a bias\n",
    "z = xw0 + xw1 + xw2 + b\n",
    "\n",
    "#  Relu activation function\n",
    "y = max(z,0)\n",
    "\n",
    "# Backward pass\n",
    "\n",
    "dvalue = 1.0\n",
    "drelu_dz = dvalue * (1. if z > 0 else 0)\n",
    "print(drelu_dz)\n",
    "\n",
    "# Partial derivative of the multiplication, the chain rule\n",
    "dsum_dxw0 = 1\n",
    "dsum_dxw1 = 1\n",
    "dsum_dxw2 = 1\n",
    "dsum_db = 1\n",
    "drelu_dxw0 = drelu_dz * dsum_dxw0\n",
    "drelu_dxw1 = drelu_dz * dsum_dxw1\n",
    "drelu_dxw2 = drelu_dz * dsum_dxw2\n",
    "drelu_db = drelu_dz * dsum_db\n",
    "print(drelu_dxw0, drelu_dxw1, drelu_dxw2, drelu_db)\n",
    "\n",
    "\n",
    "# partial derivative \n",
    "dmul_dx0 = w[0]\n",
    "dmul_dw0 = x[0]\n",
    "\n",
    "dmul_dx1 = w[1]\n",
    "dmul_dw1 = x[1]\n",
    "\n",
    "dmul_dx2 = w[2]\n",
    "dmul_dw2 = x[2]\n",
    "\n",
    "drelu_dx0 = drelu_dxw0 * dmul_dx0\n",
    "drelu_dw0 = drelu_dxw0 * dmul_dw0\n",
    "\n",
    "drelu_dx1 = drelu_dxw1 * dmul_dx1\n",
    "drelu_dw1 = drelu_dxw1 * dmul_dw1\n",
    "\n",
    "drelu_dx2 = drelu_dxw2 * dmul_dx2\n",
    "drelu_dw2 = drelu_dxw2 * dmul_dw2\n",
    "\n",
    "print(drelu_dx0,drelu_dw0)\n",
    "print(drelu_dx1,drelu_dw1)\n",
    "print(drelu_dx2,drelu_dw2)"
   ]
  },
  {
   "cell_type": "code",
   "execution_count": 6,
   "id": "8d7d1da1",
   "metadata": {},
   "outputs": [
    {
     "name": "stdout",
     "output_type": "stream",
     "text": [
      "[-3.001, -0.998, 1.997] 0.999\n"
     ]
    }
   ],
   "source": [
    "dw = [drelu_dw0, drelu_dw1, drelu_dw2]\n",
    "db = drelu_db\n",
    "w[0] += -0.001 * dw[0]\n",
    "w[1] += -0.001 * dw[1]\n",
    "w[2] += -0.001 * dw[2]\n",
    "b += -0.001 * db\n",
    "\n",
    "print(w,b)"
   ]
  },
  {
   "cell_type": "code",
   "execution_count": 7,
   "id": "b2995fa5",
   "metadata": {},
   "outputs": [
    {
     "data": {
      "text/plain": [
       "5.985"
      ]
     },
     "execution_count": 7,
     "metadata": {},
     "output_type": "execute_result"
    }
   ],
   "source": [
    "# Multiply input and weights\n",
    "xw0 = x[0] * w[0]\n",
    "xw1 = x[1] * w[1]\n",
    "xw2 = x[2] * w[2]\n",
    "\n",
    "# Adding weighted input and a bias\n",
    "z = xw0 + xw1 + xw2 + b\n",
    "\n",
    "#  Relu activation function\n",
    "y = max(z,0)\n",
    "y"
   ]
  },
  {
   "cell_type": "code",
   "execution_count": 1,
   "id": "56818917",
   "metadata": {},
   "outputs": [],
   "source": [
    "import numpy as np\n",
    "\n",
    "dvalues = np.array([[1.,1.,1.]])"
   ]
  },
  {
   "cell_type": "code",
   "execution_count": 6,
   "id": "27ab4861",
   "metadata": {},
   "outputs": [],
   "source": [
    "# we have 3 sets of weights - one set for each neuron\n",
    "# we have 4 inputs, thus 4 weights\n",
    "# recall that we keep weigts \n",
    "weights = np.array([[0.2, 0.8, -0.5, 1],\n",
    "                    [0.5, -0.91, -0.26, -0.5],\n",
    "                    [-0.26, -0.27, -0.17, 0.87]]).T"
   ]
  },
  {
   "cell_type": "code",
   "execution_count": 7,
   "id": "a00ce7d2",
   "metadata": {},
   "outputs": [
    {
     "name": "stdout",
     "output_type": "stream",
     "text": [
      "[[ 0.44  0.44  0.44]\n",
      " [-0.38 -0.38 -0.38]\n",
      " [-0.93 -0.93 -0.93]\n",
      " [ 1.37  1.37  1.37]]\n"
     ]
    }
   ],
   "source": [
    "# sum weights of given input\n",
    "# and multiply by the passed in gradient for this neuron\n",
    "dx0 = sum(weights[0])*dvalues[0]\n",
    "dx1 = sum(weights[1])*dvalues[0]\n",
    "dx2 = sum(weights[2])*dvalues[0]\n",
    "dx3 = sum(weights[3])*dvalues[0]\n",
    "\n",
    "dinputs = np.array([dx0, dx1, dx2, dx3])\n",
    "print(dinputs)"
   ]
  },
  {
   "cell_type": "markdown",
   "id": "d9c48dca",
   "metadata": {},
   "source": [
    "#### batch of sample"
   ]
  },
  {
   "cell_type": "code",
   "execution_count": 1,
   "id": "35f6d5e6",
   "metadata": {},
   "outputs": [],
   "source": [
    "import numpy as np"
   ]
  },
  {
   "cell_type": "code",
   "execution_count": 3,
   "id": "449d235e",
   "metadata": {},
   "outputs": [],
   "source": [
    "# Passed in gradient from the next layer\n",
    "# for the purpose of this example we're going to use\n",
    "# an array of an incremental gradient values\n",
    "dvalues = np.array([[ 1. , 1. , 1. ],\n",
    "[ 2. , 2. , 2. ],\n",
    "[ 3. , 3. , 3. ]])"
   ]
  },
  {
   "cell_type": "code",
   "execution_count": 4,
   "id": "cebc04da",
   "metadata": {},
   "outputs": [],
   "source": [
    "# We have 3 sets of weights - one set for each neuron\n",
    "# we have 4 inputs, thus 4 weights\n",
    "# recall that we keep weights transposed\n",
    "weights = np.array([[ 0.2 , 0.8 , - 0.5 , 1 ],\n",
    "                    [ 0.5 , - 0.91 , 0.26 , - 0.5 ],\n",
    "                    [ - 0.26 , - 0.27 , 0.17 , 0.87 ]]).T"
   ]
  },
  {
   "cell_type": "code",
   "execution_count": 5,
   "id": "d00b748a",
   "metadata": {},
   "outputs": [
    {
     "name": "stdout",
     "output_type": "stream",
     "text": [
      "[[ 0.44 -0.38 -0.07  1.37]\n",
      " [ 0.88 -0.76 -0.14  2.74]\n",
      " [ 1.32 -1.14 -0.21  4.11]]\n"
     ]
    }
   ],
   "source": [
    "dinputs = np.dot(dvalues, weights.T)\n",
    "print (dinputs)"
   ]
  },
  {
   "cell_type": "code",
   "execution_count": 6,
   "id": "6a0ec2fb",
   "metadata": {},
   "outputs": [
    {
     "name": "stdout",
     "output_type": "stream",
     "text": [
      "[[ 0.5  0.5  0.5]\n",
      " [20.1 20.1 20.1]\n",
      " [10.9 10.9 10.9]\n",
      " [ 4.1  4.1  4.1]]\n"
     ]
    }
   ],
   "source": [
    "import numpy as np\n",
    "# Passed in gradient from the next layer\n",
    "# for the purpose of this example we're going to use\n",
    "# an array of an incremental gradient values\n",
    "dvalues = np.array([[ 1. , 1. , 1. ],\n",
    "                    [ 2. , 2. , 2. ],\n",
    "                    [ 3. , 3. , 3. ]])\n",
    "# We have 3 sets of inputs - samples\n",
    "inputs = np.array([[ 1 , 2 , 3 , 2.5 ],\n",
    "                    [ 2. , 5. , - 1. , 2 ],\n",
    "                    [ - 1.5 , 2.7 , 3.3 , - 0.8 ]])\n",
    "# sum weights of given input\n",
    "# and multiply by the passed in gradient for this neuron\n",
    "dweights = np.dot(inputs.T, dvalues)\n",
    "print (dweights)"
   ]
  },
  {
   "cell_type": "markdown",
   "id": "3b52735d",
   "metadata": {},
   "source": [
    "#### Relu"
   ]
  },
  {
   "cell_type": "code",
   "execution_count": 7,
   "id": "85a45212",
   "metadata": {},
   "outputs": [
    {
     "name": "stdout",
     "output_type": "stream",
     "text": [
      "[[1 1 0 0]\n",
      " [1 0 0 1]\n",
      " [0 1 1 0]]\n",
      "[[ 1  2  0  0]\n",
      " [ 5  0  0  8]\n",
      " [ 0 10 11  0]]\n"
     ]
    }
   ],
   "source": [
    "import numpy as np\n",
    "# Example layer output\n",
    "z = np.array([[ 1 , 2 , - 3 , - 4 ],\n",
    "            [ 2 , - 7 , - 1 , 3 ],\n",
    "            [ - 1 , 2 , 5 , - 1 ]])\n",
    "dvalues = np.array([[ 1 , 2 , 3 , 4 ],\n",
    "                    [ 5 , 6 , 7 , 8 ],\n",
    "                    [ 9 , 10 , 11 , 12 ]])\n",
    "# ReLU activation's derivative\n",
    "drelu = np.zeros_like(z)\n",
    "drelu[z > 0 ] = 1\n",
    "print (drelu)\n",
    "# The chain rule\n",
    "drelu *= dvalues\n",
    "print (drelu)"
   ]
  },
  {
   "cell_type": "code",
   "execution_count": 9,
   "id": "c819c55e",
   "metadata": {},
   "outputs": [
    {
     "name": "stdout",
     "output_type": "stream",
     "text": [
      "[[ 0.179515   0.5003665 -0.262746 ]\n",
      " [ 0.742093  -0.9152577 -0.2758402]\n",
      " [-0.510153   0.2529017  0.1629592]\n",
      " [ 0.971328  -0.5021842  0.8636583]]\n",
      "[[1.98489  2.997739 0.497389]]\n"
     ]
    }
   ],
   "source": [
    "import numpy as np\n",
    "\n",
    "# Passed in gradient from the next layer\n",
    "# for the purpose of this example we're going to use\n",
    "# an array of an incremental gradient values\n",
    "dvalues = np.array([[ 1. , 1. , 1. ],\n",
    "                    [ 2. , 2. , 2. ],\n",
    "                    [ 3. , 3. , 3. ]])\n",
    "\n",
    "\n",
    "# We have 3 sets of inputs - samples\n",
    "inputs = np.array([[ 1 , 2 , 3 , 2.5 ],\n",
    "                    [ 2. , 5. , - 1. , 2 ],\n",
    "                    [ - 1.5 , 2.7 , 3.3 , - 0.8 ]])\n",
    "\n",
    "\n",
    "# We have 3 sets of weights - one set for each neuron\n",
    "# we have 4 inputs, thus 4 weights\n",
    "# recall that we keep weights transposed\n",
    "weights = np.array([[ 0.2 , 0.8 , - 0.5 , 1 ],\n",
    "                    [ 0.5 , - 0.91 , 0.26 , - 0.5 ],\n",
    "                    [ - 0.26 , - 0.27 , 0.17 , 0.87 ]]).T\n",
    "\n",
    "\n",
    "# One bias for each neuron\n",
    "# biases are the row vector with a shape (1, neurons)\n",
    "biases = np.array([[ 2 , 3 , 0.5 ]])\n",
    "\n",
    "# Forward pass\n",
    "layer_outputs = np.dot(inputs, weights) + biases # Dense layer\n",
    "relu_outputs = np.maximum( 0 , layer_outputs) # ReLU activation\n",
    "\n",
    "\n",
    "# Let's optimize and test backpropagation here\n",
    "# ReLU activation - simulates derivative with respect to input values\n",
    "# from next layer passed to current layer during backpropagation\n",
    "drelu = relu_outputs.copy()\n",
    "drelu[layer_outputs <= 0 ] = 0\n",
    "\n",
    "# Dense layer\n",
    "# dinputs - multiply by weights\n",
    "dinputs = np.dot(drelu, weights.T)\n",
    "# dweights - multiply by inputs\n",
    "dweights = np.dot(inputs.T, drelu)\n",
    "\n",
    "# dbiases - sum values, do this over samples (first axis), keepdims\n",
    "# since this by default will produce a plain list -\n",
    "# we explained this in the chapter 4\n",
    "dbiases = np.sum(drelu, axis = 0 , keepdims = True )\n",
    "\n",
    "# Update parameters\n",
    "weights += - 0.001 * dweights\n",
    "biases += - 0.001 * dbiases\n",
    "\n",
    "print (weights)\n",
    "print (biases)"
   ]
  },
  {
   "cell_type": "markdown",
   "id": "a5bc7ac8",
   "metadata": {},
   "source": [
    "#### Categorical Cross entropy loss derivative code"
   ]
  },
  {
   "cell_type": "code",
   "execution_count": 5,
   "id": "9f2ef3ab",
   "metadata": {},
   "outputs": [
    {
     "data": {
      "text/plain": [
       "array([0., 1., 0., 0., 0.])"
      ]
     },
     "execution_count": 5,
     "metadata": {},
     "output_type": "execute_result"
    }
   ],
   "source": [
    "import numpy as np\n",
    "np.eye( 5 )[1]"
   ]
  },
  {
   "cell_type": "markdown",
   "id": "4b22cff0",
   "metadata": {},
   "source": [
    "#### Softmax activation derivative code implementation"
   ]
  },
  {
   "cell_type": "markdown",
   "id": "c2179488",
   "metadata": {},
   "source": []
  },
  {
   "cell_type": "code",
   "execution_count": 1,
   "id": "6e12df6d",
   "metadata": {},
   "outputs": [],
   "source": [
    "import numpy as np\n",
    "softmax_output = [ 0.7 , 0.1 , 0.2 ]"
   ]
  },
  {
   "cell_type": "code",
   "execution_count": 6,
   "id": "a8e299ec",
   "metadata": {},
   "outputs": [
    {
     "name": "stdout",
     "output_type": "stream",
     "text": [
      "[[0.7]\n",
      " [0.1]\n",
      " [0.2]]\n"
     ]
    }
   ],
   "source": [
    "softmax_output = np.array(softmax_output).reshape( - 1 , 1 )\n",
    "print ( softmax_output)"
   ]
  },
  {
   "cell_type": "code",
   "execution_count": 10,
   "id": "22c7bf43",
   "metadata": {},
   "outputs": [
    {
     "data": {
      "text/plain": [
       "array([[0.7, 0. , 0. ],\n",
       "       [0. , 0.1, 0. ],\n",
       "       [0. , 0. , 0.2]])"
      ]
     },
     "execution_count": 10,
     "metadata": {},
     "output_type": "execute_result"
    }
   ],
   "source": [
    "# simple way\n",
    "np.eye(softmax_output.shape[0])\n",
    "softmax_output * np.eye(softmax_output.shape[ 0 ])"
   ]
  },
  {
   "cell_type": "code",
   "execution_count": 12,
   "id": "a13fce83",
   "metadata": {},
   "outputs": [
    {
     "name": "stdout",
     "output_type": "stream",
     "text": [
      "[[0.7 0.  0. ]\n",
      " [0.  0.1 0. ]\n",
      " [0.  0.  0.2]]\n"
     ]
    }
   ],
   "source": [
    "# mult diagonal 1 array with array in same code\n",
    "print ( np.diagflat(softmax_output))"
   ]
  },
  {
   "cell_type": "code",
   "execution_count": 13,
   "id": "0251d0ee",
   "metadata": {},
   "outputs": [
    {
     "name": "stdout",
     "output_type": "stream",
     "text": [
      "[[0.49 0.07 0.14]\n",
      " [0.07 0.01 0.02]\n",
      " [0.14 0.02 0.04]]\n"
     ]
    }
   ],
   "source": [
    "print ( np.dot(softmax_output, softmax_output.T))"
   ]
  },
  {
   "cell_type": "code",
   "execution_count": 14,
   "id": "978855af",
   "metadata": {},
   "outputs": [
    {
     "name": "stdout",
     "output_type": "stream",
     "text": [
      "[[ 0.21 -0.07 -0.14]\n",
      " [-0.07  0.09 -0.02]\n",
      " [-0.14 -0.02  0.16]]\n"
     ]
    }
   ],
   "source": [
    "print ( np.diagflat(softmax_output) -\n",
    "np.dot(softmax_output, softmax_output.T))"
   ]
  },
  {
   "cell_type": "code",
   "execution_count": 21,
   "id": "bce360f2",
   "metadata": {},
   "outputs": [
    {
     "data": {
      "text/plain": [
       "0"
      ]
     },
     "execution_count": 21,
     "metadata": {},
     "output_type": "execute_result"
    }
   ],
   "source": [
    "import numpy as np\n",
    "y_true = np.array([[ 1 ,1, 1 ],[ 1 , 1, 1 ],[ 1 , 1 ,1]])\n",
    "np.argmax(y_true)"
   ]
  },
  {
   "cell_type": "code",
   "execution_count": 22,
   "id": "333ddad2",
   "metadata": {},
   "outputs": [
    {
     "name": "stdout",
     "output_type": "stream",
     "text": [
      "[0 0 0]\n"
     ]
    }
   ],
   "source": [
    "print ( np.argmax(y_true, axis = 1 ))"
   ]
  },
  {
   "cell_type": "markdown",
   "id": "9623caef",
   "metadata": {},
   "source": [
    "#### Full model code"
   ]
  },
  {
   "cell_type": "code",
   "execution_count": 2,
   "id": "26f9d939",
   "metadata": {},
   "outputs": [],
   "source": [
    "import numpy as np\n",
    "import nnfs\n",
    "from nnfs.datasets import spiral_data\n",
    "nnfs.init()"
   ]
  },
  {
   "cell_type": "code",
   "execution_count": 3,
   "id": "91fa5807",
   "metadata": {},
   "outputs": [],
   "source": [
    "# Dense layer\n",
    "class Layer_Dense :\n",
    "# Layer initialization\n",
    "    def __init__ ( self , n_inputs , n_neurons ):\n",
    "    # Initialize weights and biases\n",
    "        self.weights = 0.01 * np.random.randn(n_inputs, n_neurons)\n",
    "        self.biases = np.zeros(( 1 , n_neurons))\n",
    "    \n",
    "    # Forward pass\n",
    "    def forward ( self , inputs ):\n",
    "    # Remember input values\n",
    "        self.inputs = inputs\n",
    "        # Calculate output values from inputs, weights and biases\n",
    "        self.output = np.dot(inputs, self.weights) + self.biases\n",
    "    \n",
    "    # Backward pass\n",
    "    def backward ( self , dvalues ):\n",
    "    # Gradients on parameters\n",
    "        self.dweights = np.dot(self.inputs.T, dvalues)\n",
    "        self.dbiases = np.sum(dvalues, axis = 0 , keepdims = True )\n",
    "        # Gradient on values\n",
    "        self.dinputs = np.dot(dvalues, self.weights.T)"
   ]
  },
  {
   "cell_type": "code",
   "execution_count": 4,
   "id": "c1edc259",
   "metadata": {},
   "outputs": [],
   "source": [
    "# ReLU activation\n",
    "class Activation_ReLU :\n",
    "# Forward pass\n",
    "    def forward ( self , inputs ):\n",
    "\n",
    "        # Remember input values\n",
    "        self.inputs = inputs\n",
    "        # Calculate output values from inputs\n",
    "        self.output = np.maximum( 0 , inputs)\n",
    "# Backward pass\n",
    "    def backward ( self , dvalues ):\n",
    "        # Since we need to modify original variable,\n",
    "        # let's make a copy of values first\n",
    "        self.dinputs = dvalues.copy()\n",
    "        # Zero gradient where input values were negative\n",
    "        self.dinputs[self.inputs <= 0 ] = 0"
   ]
  },
  {
   "cell_type": "code",
   "execution_count": null,
   "id": "8b3c8bb7",
   "metadata": {},
   "outputs": [],
   "source": [
    "class Activation_Softmax:\n",
    "    # Forward pass\n",
    "def forward ( self , inputs ):\n",
    "# Remember input values\n",
    "self.inputs = inputs\n",
    "# Get unnormalized probabilities\n",
    "exp_values = np.exp(inputs - np.max(inputs, axis = 1 ,\n",
    "keepdims = True ))\n",
    "# Normalize them for each sample\n",
    "probabilities = exp_values / np.sum(exp_values, axis = 1 ,\n",
    "keepdims = True )\n",
    "self.output = probabilities\n",
    "    # Backward pass\n",
    "    def backward ( self , dvalues ):\n",
    "    # Create uninitialized array\n",
    "    self.dinputs = np.empty_like(dvalues)\n",
    "    # Enumerate outputs and gradients\n",
    "    for index, (single_output, single_dvalues) in \\\n",
    "    enumerate ( zip (self.output, dvalues)):\n",
    "    # Flatten output array\n",
    "    single_output = single_output.reshape( - 1 , 1 )\n",
    "    # Calculate Jacobian matrix of the output and\n",
    "    jacobian_matrix = np.diagflat(single_output) - \\\n",
    "    np.dot(single_output, single_output.T)\n",
    "    # Calculate sample-wise gradient\n",
    "    # and add it to the array of sample gradients\n",
    "    self.dinputs[index] = np.dot(jacobian_matrix,\n",
    "    single_dvalues)"
   ]
  }
 ],
 "metadata": {
  "kernelspec": {
   "display_name": "Python 3.9.7 ('env': venv)",
   "language": "python",
   "name": "python3"
  },
  "language_info": {
   "codemirror_mode": {
    "name": "ipython",
    "version": 3
   },
   "file_extension": ".py",
   "mimetype": "text/x-python",
   "name": "python",
   "nbconvert_exporter": "python",
   "pygments_lexer": "ipython3",
   "version": "3.9.7"
  },
  "vscode": {
   "interpreter": {
    "hash": "7051c76309f97d2acca8192af5a44d6ab296cc11ab368f39175ec153bdd37765"
   }
  }
 },
 "nbformat": 4,
 "nbformat_minor": 5
}
